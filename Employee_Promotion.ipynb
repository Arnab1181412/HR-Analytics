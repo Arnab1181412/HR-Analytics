{
 "cells": [
  {
   "cell_type": "code",
   "execution_count": 89,
   "metadata": {
    "executionInfo": {
     "elapsed": 495,
     "status": "ok",
     "timestamp": 1626192148325,
     "user": {
      "displayName": "Arnab Samanta",
      "photoUrl": "",
      "userId": "00991020215763319461"
     },
     "user_tz": -330
    },
    "id": "1qTMu_KtmOG_"
   },
   "outputs": [],
   "source": [
    "import sys\n",
    "sys.path.append('/content/drive/MyDrive/Colab Notebooks')"
   ]
  },
  {
   "cell_type": "code",
   "execution_count": 2,
   "metadata": {},
   "outputs": [],
   "source": [
    "import warnings\n",
    "warnings.filterwarnings('ignore')"
   ]
  },
  {
   "cell_type": "code",
   "execution_count": 1,
   "metadata": {},
   "outputs": [
    {
     "data": {
      "application/javascript": [
       "\n",
       "        if (window._pyforest_update_imports_cell) { window._pyforest_update_imports_cell('import pandas as pd'); }\n",
       "    "
      ],
      "text/plain": [
       "<IPython.core.display.Javascript object>"
      ]
     },
     "metadata": {},
     "output_type": "display_data"
    },
    {
     "data": {
      "application/javascript": [
       "\n",
       "        if (window._pyforest_update_imports_cell) { window._pyforest_update_imports_cell('import pandas as pd'); }\n",
       "    "
      ],
      "text/plain": [
       "<IPython.core.display.Javascript object>"
      ]
     },
     "metadata": {},
     "output_type": "display_data"
    }
   ],
   "source": [
    "pd.set_option('display.max_columns',None)\n",
    "pd.set_option('display.max_rows',None)"
   ]
  },
  {
   "cell_type": "code",
   "execution_count": 2,
   "metadata": {
    "executionInfo": {
     "elapsed": 1692,
     "status": "ok",
     "timestamp": 1626192349299,
     "user": {
      "displayName": "Arnab Samanta",
      "photoUrl": "",
      "userId": "00991020215763319461"
     },
     "user_tz": -330
    },
    "id": "A4DT1cG9nSFM"
   },
   "outputs": [],
   "source": [
    "import pandas as pd\n",
    "import numpy as np\n",
    "import matplotlib.pyplot as plt\n",
    "import seaborn as sns\n",
    "%matplotlib inline"
   ]
  },
  {
   "cell_type": "code",
   "execution_count": 3,
   "metadata": {
    "colab": {
     "base_uri": "https://localhost:8080/",
     "height": 321
    },
    "executionInfo": {
     "elapsed": 1089,
     "status": "ok",
     "timestamp": 1626192394425,
     "user": {
      "displayName": "Arnab Samanta",
      "photoUrl": "",
      "userId": "00991020215763319461"
     },
     "user_tz": -330
    },
    "id": "gHKQt8Ucndzd",
    "outputId": "88a9f53c-5083-4a73-cacd-eb2971c733bc"
   },
   "outputs": [
    {
     "data": {
      "application/javascript": [
       "\n",
       "        if (window._pyforest_update_imports_cell) { window._pyforest_update_imports_cell('import pandas as pd'); }\n",
       "    "
      ],
      "text/plain": [
       "<IPython.core.display.Javascript object>"
      ]
     },
     "metadata": {},
     "output_type": "display_data"
    },
    {
     "data": {
      "text/html": [
       "<div>\n",
       "<style scoped>\n",
       "    .dataframe tbody tr th:only-of-type {\n",
       "        vertical-align: middle;\n",
       "    }\n",
       "\n",
       "    .dataframe tbody tr th {\n",
       "        vertical-align: top;\n",
       "    }\n",
       "\n",
       "    .dataframe thead th {\n",
       "        text-align: right;\n",
       "    }\n",
       "</style>\n",
       "<table border=\"1\" class=\"dataframe\">\n",
       "  <thead>\n",
       "    <tr style=\"text-align: right;\">\n",
       "      <th></th>\n",
       "      <th>department</th>\n",
       "      <th>region</th>\n",
       "      <th>education</th>\n",
       "      <th>gender</th>\n",
       "      <th>recruitment_channel</th>\n",
       "      <th>no_of_trainings</th>\n",
       "      <th>age</th>\n",
       "      <th>previous_year_rating</th>\n",
       "      <th>length_of_service</th>\n",
       "      <th>KPIs_met &gt;80%</th>\n",
       "      <th>awards_won?</th>\n",
       "      <th>avg_training_score</th>\n",
       "      <th>is_promoted</th>\n",
       "    </tr>\n",
       "    <tr>\n",
       "      <th>employee_id</th>\n",
       "      <th></th>\n",
       "      <th></th>\n",
       "      <th></th>\n",
       "      <th></th>\n",
       "      <th></th>\n",
       "      <th></th>\n",
       "      <th></th>\n",
       "      <th></th>\n",
       "      <th></th>\n",
       "      <th></th>\n",
       "      <th></th>\n",
       "      <th></th>\n",
       "      <th></th>\n",
       "    </tr>\n",
       "  </thead>\n",
       "  <tbody>\n",
       "    <tr>\n",
       "      <th>65438</th>\n",
       "      <td>Sales &amp; Marketing</td>\n",
       "      <td>region_7</td>\n",
       "      <td>Master's &amp; above</td>\n",
       "      <td>f</td>\n",
       "      <td>sourcing</td>\n",
       "      <td>1</td>\n",
       "      <td>35</td>\n",
       "      <td>5.0</td>\n",
       "      <td>8</td>\n",
       "      <td>1</td>\n",
       "      <td>0</td>\n",
       "      <td>49</td>\n",
       "      <td>0</td>\n",
       "    </tr>\n",
       "    <tr>\n",
       "      <th>65141</th>\n",
       "      <td>Operations</td>\n",
       "      <td>region_22</td>\n",
       "      <td>Bachelor's</td>\n",
       "      <td>m</td>\n",
       "      <td>other</td>\n",
       "      <td>1</td>\n",
       "      <td>30</td>\n",
       "      <td>5.0</td>\n",
       "      <td>4</td>\n",
       "      <td>0</td>\n",
       "      <td>0</td>\n",
       "      <td>60</td>\n",
       "      <td>0</td>\n",
       "    </tr>\n",
       "    <tr>\n",
       "      <th>7513</th>\n",
       "      <td>Sales &amp; Marketing</td>\n",
       "      <td>region_19</td>\n",
       "      <td>Bachelor's</td>\n",
       "      <td>m</td>\n",
       "      <td>sourcing</td>\n",
       "      <td>1</td>\n",
       "      <td>34</td>\n",
       "      <td>3.0</td>\n",
       "      <td>7</td>\n",
       "      <td>0</td>\n",
       "      <td>0</td>\n",
       "      <td>50</td>\n",
       "      <td>0</td>\n",
       "    </tr>\n",
       "    <tr>\n",
       "      <th>2542</th>\n",
       "      <td>Sales &amp; Marketing</td>\n",
       "      <td>region_23</td>\n",
       "      <td>Bachelor's</td>\n",
       "      <td>m</td>\n",
       "      <td>other</td>\n",
       "      <td>2</td>\n",
       "      <td>39</td>\n",
       "      <td>1.0</td>\n",
       "      <td>10</td>\n",
       "      <td>0</td>\n",
       "      <td>0</td>\n",
       "      <td>50</td>\n",
       "      <td>0</td>\n",
       "    </tr>\n",
       "    <tr>\n",
       "      <th>48945</th>\n",
       "      <td>Technology</td>\n",
       "      <td>region_26</td>\n",
       "      <td>Bachelor's</td>\n",
       "      <td>m</td>\n",
       "      <td>other</td>\n",
       "      <td>1</td>\n",
       "      <td>45</td>\n",
       "      <td>3.0</td>\n",
       "      <td>2</td>\n",
       "      <td>0</td>\n",
       "      <td>0</td>\n",
       "      <td>73</td>\n",
       "      <td>0</td>\n",
       "    </tr>\n",
       "  </tbody>\n",
       "</table>\n",
       "</div>"
      ],
      "text/plain": [
       "                    department     region         education gender  \\\n",
       "employee_id                                                          \n",
       "65438        Sales & Marketing   region_7  Master's & above      f   \n",
       "65141               Operations  region_22        Bachelor's      m   \n",
       "7513         Sales & Marketing  region_19        Bachelor's      m   \n",
       "2542         Sales & Marketing  region_23        Bachelor's      m   \n",
       "48945               Technology  region_26        Bachelor's      m   \n",
       "\n",
       "            recruitment_channel  no_of_trainings  age  previous_year_rating  \\\n",
       "employee_id                                                                   \n",
       "65438                  sourcing                1   35                   5.0   \n",
       "65141                     other                1   30                   5.0   \n",
       "7513                   sourcing                1   34                   3.0   \n",
       "2542                      other                2   39                   1.0   \n",
       "48945                     other                1   45                   3.0   \n",
       "\n",
       "             length_of_service  KPIs_met >80%  awards_won?  \\\n",
       "employee_id                                                  \n",
       "65438                        8              1            0   \n",
       "65141                        4              0            0   \n",
       "7513                         7              0            0   \n",
       "2542                        10              0            0   \n",
       "48945                        2              0            0   \n",
       "\n",
       "             avg_training_score  is_promoted  \n",
       "employee_id                                   \n",
       "65438                        49            0  \n",
       "65141                        60            0  \n",
       "7513                         50            0  \n",
       "2542                         50            0  \n",
       "48945                        73            0  "
      ]
     },
     "execution_count": 3,
     "metadata": {},
     "output_type": "execute_result"
    }
   ],
   "source": [
    "dataset = pd.read_csv('train_LZdllcl.csv',index_col = 0)\n",
    "dataset.head()"
   ]
  },
  {
   "cell_type": "code",
   "execution_count": 94,
   "metadata": {
    "colab": {
     "base_uri": "https://localhost:8080/"
    },
    "executionInfo": {
     "elapsed": 1378,
     "status": "ok",
     "timestamp": 1626192546991,
     "user": {
      "displayName": "Arnab Samanta",
      "photoUrl": "",
      "userId": "00991020215763319461"
     },
     "user_tz": -330
    },
    "id": "FlI_tBwMoNxH",
    "outputId": "503c89da-5b3d-4eae-b7ef-3f5380a3f10c"
   },
   "outputs": [
    {
     "data": {
      "text/plain": [
       "(54808, 13)"
      ]
     },
     "execution_count": 94,
     "metadata": {},
     "output_type": "execute_result"
    }
   ],
   "source": [
    "dataset.shape"
   ]
  },
  {
   "cell_type": "code",
   "execution_count": 95,
   "metadata": {
    "colab": {
     "base_uri": "https://localhost:8080/"
    },
    "executionInfo": {
     "elapsed": 672,
     "status": "ok",
     "timestamp": 1626192477538,
     "user": {
      "displayName": "Arnab Samanta",
      "photoUrl": "",
      "userId": "00991020215763319461"
     },
     "user_tz": -330
    },
    "id": "7jOUYGqOnn8M",
    "outputId": "ac9050ac-851b-4871-ee1b-2ccb06481687"
   },
   "outputs": [
    {
     "data": {
      "text/plain": [
       "0    91.482995\n",
       "1     8.517005\n",
       "Name: is_promoted, dtype: float64"
      ]
     },
     "execution_count": 95,
     "metadata": {},
     "output_type": "execute_result"
    }
   ],
   "source": [
    "dataset['is_promoted'].value_counts()/dataset.shape[0]*100"
   ]
  },
  {
   "cell_type": "markdown",
   "metadata": {
    "id": "mRzyjPRmoBgm"
   },
   "source": [
    "### **Clearly an imbalanced dataset**"
   ]
  },
  {
   "cell_type": "code",
   "execution_count": 96,
   "metadata": {
    "colab": {
     "base_uri": "https://localhost:8080/"
    },
    "executionInfo": {
     "elapsed": 1463,
     "status": "ok",
     "timestamp": 1626192519159,
     "user": {
      "displayName": "Arnab Samanta",
      "photoUrl": "",
      "userId": "00991020215763319461"
     },
     "user_tz": -330
    },
    "id": "e3HyL2V2oEHl",
    "outputId": "bb3294d3-c694-43ab-892f-b560e3acc17a"
   },
   "outputs": [
    {
     "name": "stdout",
     "output_type": "stream",
     "text": [
      "<class 'pandas.core.frame.DataFrame'>\n",
      "Int64Index: 54808 entries, 65438 to 51526\n",
      "Data columns (total 13 columns):\n",
      " #   Column                Non-Null Count  Dtype  \n",
      "---  ------                --------------  -----  \n",
      " 0   department            54808 non-null  object \n",
      " 1   region                54808 non-null  object \n",
      " 2   education             52399 non-null  object \n",
      " 3   gender                54808 non-null  object \n",
      " 4   recruitment_channel   54808 non-null  object \n",
      " 5   no_of_trainings       54808 non-null  int64  \n",
      " 6   age                   54808 non-null  int64  \n",
      " 7   previous_year_rating  50684 non-null  float64\n",
      " 8   length_of_service     54808 non-null  int64  \n",
      " 9   KPIs_met >80%         54808 non-null  int64  \n",
      " 10  awards_won?           54808 non-null  int64  \n",
      " 11  avg_training_score    54808 non-null  int64  \n",
      " 12  is_promoted           54808 non-null  int64  \n",
      "dtypes: float64(1), int64(7), object(5)\n",
      "memory usage: 5.9+ MB\n"
     ]
    }
   ],
   "source": [
    "dataset.info()"
   ]
  },
  {
   "cell_type": "code",
   "execution_count": 97,
   "metadata": {},
   "outputs": [
    {
     "data": {
      "text/plain": [
       "department                 0\n",
       "region                     0\n",
       "education               2409\n",
       "gender                     0\n",
       "recruitment_channel        0\n",
       "no_of_trainings            0\n",
       "age                        0\n",
       "previous_year_rating    4124\n",
       "length_of_service          0\n",
       "KPIs_met >80%              0\n",
       "awards_won?                0\n",
       "avg_training_score         0\n",
       "is_promoted                0\n",
       "dtype: int64"
      ]
     },
     "execution_count": 97,
     "metadata": {},
     "output_type": "execute_result"
    }
   ],
   "source": [
    "dataset.isnull().sum()"
   ]
  },
  {
   "cell_type": "markdown",
   "metadata": {
    "id": "M_vAI1hLoRx0"
   },
   "source": [
    "**We will analyze these null values and find a method to handle it**"
   ]
  },
  {
   "cell_type": "code",
   "execution_count": 98,
   "metadata": {
    "id": "3eksKMpKoHM_"
   },
   "outputs": [
    {
     "data": {
      "text/plain": [
       "['department', 'region', 'education', 'gender', 'recruitment_channel']"
      ]
     },
     "execution_count": 98,
     "metadata": {},
     "output_type": "execute_result"
    }
   ],
   "source": [
    "categorical_cols = [col for col in dataset.columns if dataset[col].dtypes=='O']\n",
    "categorical_cols"
   ]
  },
  {
   "cell_type": "markdown",
   "metadata": {},
   "source": [
    "**<span style = 'color:red'>Region</span> of a person should not be considered as a feature even if its correlation with the output feature is high to decide his/her promotion because understand that a person coming from a certain area has no relation with his or her promotion and if that person has other great qualities and performances across the years but lets say other people coming from that particular region may not have good performance then he will also be impacted as our model will become biased due to this and will lead to incorrect predictions.**"
   ]
  },
  {
   "cell_type": "code",
   "execution_count": 99,
   "metadata": {},
   "outputs": [
    {
     "data": {
      "text/plain": [
       "department              9\n",
       "region                 34\n",
       "education               3\n",
       "gender                  2\n",
       "recruitment_channel     3\n",
       "dtype: int64"
      ]
     },
     "execution_count": 99,
     "metadata": {},
     "output_type": "execute_result"
    }
   ],
   "source": [
    "dataset[categorical_cols].nunique()"
   ]
  },
  {
   "cell_type": "code",
   "execution_count": 100,
   "metadata": {},
   "outputs": [
    {
     "data": {
      "text/plain": [
       "['no_of_trainings',\n",
       " 'age',\n",
       " 'previous_year_rating',\n",
       " 'length_of_service',\n",
       " 'KPIs_met >80%',\n",
       " 'awards_won?',\n",
       " 'avg_training_score',\n",
       " 'is_promoted']"
      ]
     },
     "execution_count": 100,
     "metadata": {},
     "output_type": "execute_result"
    }
   ],
   "source": [
    "numerical_cols = [col for col in dataset.columns if dataset[col].dtypes!='O']\n",
    "numerical_cols"
   ]
  },
  {
   "cell_type": "code",
   "execution_count": 101,
   "metadata": {},
   "outputs": [
    {
     "data": {
      "text/plain": [
       "no_of_trainings         10\n",
       "age                     41\n",
       "previous_year_rating     5\n",
       "length_of_service       35\n",
       "KPIs_met >80%            2\n",
       "awards_won?              2\n",
       "avg_training_score      61\n",
       "is_promoted              2\n",
       "dtype: int64"
      ]
     },
     "execution_count": 101,
     "metadata": {},
     "output_type": "execute_result"
    }
   ],
   "source": [
    "dataset[numerical_cols].nunique()"
   ]
  },
  {
   "cell_type": "code",
   "execution_count": 102,
   "metadata": {},
   "outputs": [
    {
     "data": {
      "text/plain": [
       "1     44378\n",
       "2      7987\n",
       "3      1776\n",
       "4       468\n",
       "5       128\n",
       "6        44\n",
       "7        12\n",
       "8         5\n",
       "9         5\n",
       "10        5\n",
       "Name: no_of_trainings, dtype: int64"
      ]
     },
     "execution_count": 102,
     "metadata": {},
     "output_type": "execute_result"
    }
   ],
   "source": [
    "dataset['no_of_trainings'].value_counts()"
   ]
  },
  {
   "cell_type": "markdown",
   "metadata": {},
   "source": [
    "**From this observation we infer that <span style=\"color:green\">KPIs_met >80%,  awards_won?,  previous_year_rating</span> are discrete numerical variables while <span style='color:blue'>no_of_trainings</span> has most of the values ranging from 1 to 4 so for trainings more than 4 we can replace it to with a <span style='color:violet'>'rare/more_trained'</span> feature .**"
   ]
  },
  {
   "cell_type": "code",
   "execution_count": 103,
   "metadata": {},
   "outputs": [
    {
     "data": {
      "text/plain": [
       "['KPIs_met >80%', 'awards_won?', 'previous_year_rating', 'no_of_trainings']"
      ]
     },
     "execution_count": 103,
     "metadata": {},
     "output_type": "execute_result"
    }
   ],
   "source": [
    "discrete_cols = ['KPIs_met >80%','awards_won?','previous_year_rating','no_of_trainings']\n",
    "discrete_cols"
   ]
  },
  {
   "cell_type": "code",
   "execution_count": 104,
   "metadata": {},
   "outputs": [
    {
     "data": {
      "text/plain": [
       "['age', 'length_of_service', 'avg_training_score']"
      ]
     },
     "execution_count": 104,
     "metadata": {},
     "output_type": "execute_result"
    }
   ],
   "source": [
    "continuous_cols = [col for col in numerical_cols if col not in discrete_cols and col!='is_promoted']\n",
    "continuous_cols"
   ]
  },
  {
   "cell_type": "markdown",
   "metadata": {},
   "source": [
    "## Let's replace the NaN value with 'Missing' so as to see some relationship with output variable"
   ]
  },
  {
   "cell_type": "code",
   "execution_count": 105,
   "metadata": {},
   "outputs": [],
   "source": [
    "def nan_replacer(dataset_missing,features):\n",
    "    \n",
    "    for feature in features:\n",
    "        \n",
    "        dataset_missing[feature] = np.where(dataset_missing[feature].isnull(),'Missing',dataset_missing[feature])\n",
    "        \n",
    "        \n",
    "    return dataset_missing"
   ]
  },
  {
   "cell_type": "code",
   "execution_count": 106,
   "metadata": {},
   "outputs": [],
   "source": [
    "dataset_missing = nan_replacer(dataset.copy(),['education','previous_year_rating'])"
   ]
  },
  {
   "cell_type": "code",
   "execution_count": 107,
   "metadata": {},
   "outputs": [
    {
     "data": {
      "image/png": "[encoded data removed]",
      "text/plain": [
       "<Figure size 936x720 with 1 Axes>"
      ]
     },
     "metadata": {
      "needs_background": "dark"
     },
     "output_type": "display_data"
    }
   ],
   "source": [
    "plt.figure(figsize=[13,10])\n",
    "plt.style.use('dark_background')\n",
    "sns.countplot(dataset_missing[dataset_missing.is_promoted==1].education,palette='rainbow')\n",
    "plt.ylabel('are_promoted')\n",
    "plt.show()"
   ]
  },
  {
   "cell_type": "markdown",
   "metadata": {},
   "source": [
    "### <span style='color:red'> We will impute it with the mode of that feature ie; <span style='color:purple'> \"Bachelor's\" </span> here."
   ]
  },
  {
   "cell_type": "code",
   "execution_count": 108,
   "metadata": {},
   "outputs": [
    {
     "data": {
      "image/png": "[encoded data removed]",
      "text/plain": [
       "<Figure size 936x720 with 1 Axes>"
      ]
     },
     "metadata": {},
     "output_type": "display_data"
    }
   ],
   "source": [
    "plt.figure(figsize=[13,10])\n",
    "plt.style.use('dark_background')\n",
    "sns.countplot(dataset_missing[dataset_missing.is_promoted==1].previous_year_rating,palette='rainbow')\n",
    "plt.ylabel('are_promoted')\n",
    "plt.show()"
   ]
  },
  {
   "cell_type": "markdown",
   "metadata": {},
   "source": [
    "### <span style='color:red'> As this is a discrete numerical feature we will impute it with the median of the column."
   ]
  },
  {
   "cell_type": "code",
   "execution_count": 109,
   "metadata": {
    "scrolled": false
   },
   "outputs": [
    {
     "data": {
      "image/png": "[encoded data removed]",
      "text/plain": [
       "<Figure size 720x648 with 1 Axes>"
      ]
     },
     "metadata": {},
     "output_type": "display_data"
    },
    {
     "data": {
      "image/png": "[encoded data removed]",
      "text/plain": [
       "<Figure size 720x648 with 1 Axes>"
      ]
     },
     "metadata": {},
     "output_type": "display_data"
    },
    {
     "data": {
      "image/png": "[encoded data removed]",
      "text/plain": [
       "<Figure size 720x648 with 1 Axes>"
      ]
     },
     "metadata": {},
     "output_type": "display_data"
    },
    {
     "data": {
      "image/png": "[encoded data removed]",
      "text/plain": [
       "<Figure size 720x648 with 1 Axes>"
      ]
     },
     "metadata": {},
     "output_type": "display_data"
    }
   ],
   "source": [
    "\n",
    "def with_hue(plot, feature, Number_of_categories, hue_categories):\n",
    "    a = [p.get_height() for p in plot.patches]\n",
    "    patch = [p for p in plot.patches]\n",
    "    \n",
    "    for i in range(Number_of_categories):\n",
    "        total = dataset.groupby(feature)[feature].value_counts()[i]\n",
    "        for j in range(hue_categories):\n",
    "            percentage = '{:.1f}%'.format(100 * dataset.groupby(feature)['is_promoted'].value_counts()[2*i+j]/total)\n",
    "            x = patch[(j*Number_of_categories + i)].get_x() + patch[(j*Number_of_categories + i)].get_width() / 2 - 0.15\n",
    "            y = patch[(j*Number_of_categories + i)].get_y() + patch[(j*Number_of_categories + i)].get_height() \n",
    "            plot.annotate(percentage, (x, y), size = 12)\n",
    "    \n",
    "    plt.show()\n",
    "\n",
    "for col in categorical_cols:\n",
    "    \n",
    "    if col!='region':\n",
    "        plt.style.use('dark_background') \n",
    "        plt.figure(figsize=[10,9])\n",
    "        plot = sns.countplot(x=dataset[col],hue = dataset['is_promoted'],palette='rainbow')\n",
    "        plt.xticks(rotation=45,ha='right')\n",
    "        with_hue(plot,col,dataset[col].nunique(),2)"
   ]
  },
  {
   "cell_type": "markdown",
   "metadata": {},
   "source": [
    "**<span style = 'color:purple'>The Analysis shows us the following things :- </span>**\n",
    "<br> <br />\n",
    "\n",
    "1. For a person to get promoted higher <span style = 'color:red'>**eduction**</span> is not quite influential.\n",
    "<br> <br />\n",
    "2. <span style = 'color:red'>**Recruitment_channel**</span> does not help with a person's promotion so they have fair chances.\n",
    "\n"
   ]
  },
  {
   "cell_type": "code",
   "execution_count": 110,
   "metadata": {},
   "outputs": [
    {
     "data": {
      "image/png": "[encoded data removed]",
      "text/plain": [
       "<Figure size 720x648 with 1 Axes>"
      ]
     },
     "metadata": {},
     "output_type": "display_data"
    },
    {
     "data": {
      "image/png": "[encoded data removed]",
      "text/plain": [
       "<Figure size 720x648 with 1 Axes>"
      ]
     },
     "metadata": {},
     "output_type": "display_data"
    },
    {
     "data": {
      "image/png": "[encoded data removed]",
      "text/plain": [
       "<Figure size 720x648 with 1 Axes>"
      ]
     },
     "metadata": {},
     "output_type": "display_data"
    },
    {
     "data": {
      "image/png": "[encoded data removed]",
      "text/plain": [
       "<Figure size 720x648 with 1 Axes>"
      ]
     },
     "metadata": {},
     "output_type": "display_data"
    }
   ],
   "source": [
    "for col in discrete_cols:\n",
    "    plt.style.use('dark_background') \n",
    "    plt.figure(figsize=[10,9])\n",
    "    sns.barplot(x=col,data=dataset,y='is_promoted',palette='rainbow',ci=None)\n",
    "    plt.show()"
   ]
  },
  {
   "cell_type": "markdown",
   "metadata": {},
   "source": [
    "**<span style = 'color:violet'>The trend is clear to us :-</span>**\n",
    "<br> <br /> \n",
    "<span style = 'color:red'>1. People who have won awards are likely to get promoted.</span><br> <br />\n",
    "<span style = 'color:blue'>2. People who have a KPI score of more than 80% are likely to get promoted.</span><br> <br />\n",
    "<span style = 'color:green'>3. People having higher rating have higher chances of getting a promotion.</span><br> <br />"
   ]
  },
  {
   "cell_type": "code",
   "execution_count": 111,
   "metadata": {
    "scrolled": false
   },
   "outputs": [
    {
     "data": {
      "image/png": "[encoded data removed]",
      "text/plain": [
       "<Figure size 720x648 with 1 Axes>"
      ]
     },
     "metadata": {},
     "output_type": "display_data"
    },
    {
     "data": {
      "image/png": "[encoded data removed]",
      "text/plain": [
       "<Figure size 720x648 with 1 Axes>"
      ]
     },
     "metadata": {},
     "output_type": "display_data"
    },
    {
     "data": {
      "image/png": "[encoded data removed]",
      "text/plain": [
       "<Figure size 720x648 with 1 Axes>"
      ]
     },
     "metadata": {},
     "output_type": "display_data"
    }
   ],
   "source": [
    "for col in continuous_cols:\n",
    "    plt.style.use('dark_background') \n",
    "    plt.figure(figsize=[10,9])\n",
    "    sns.distplot(dataset[col],bins=20,color='cyan',kde_kws={\"color\":\"red\"},kde=True)\n",
    "    plt.show()"
   ]
  },
  {
   "cell_type": "markdown",
   "metadata": {},
   "source": [
    "**<span style='color:red'> Observations :- </span>**\n",
    "<br> <br />\n",
    "<span style='color:darkorange'> 1. <span style='color:blue'>Age</span> and <span style='color:blue'>length_of_service</span> are right skewed distributions.\n",
    "<br> <br /> \n",
    "<span style='color:darkorange'> 2. <span style='color:blue'>no._of_trainings</span> taken by individuals sharply decreases from 1 to 10.\n",
    "\n",
    "<span style='color:darkorange'> 3. <span style='color:blue'>avg_training_score</span> has a peak initially but it decreases non-uniformly upto a score of 80 and an increase is noted after it however the graph declines uniformly after that."
   ]
  },
  {
   "cell_type": "markdown",
   "metadata": {},
   "source": [
    "**Lets try to Handle the distribution and see if we can do something**"
   ]
  },
  {
   "cell_type": "code",
   "execution_count": 113,
   "metadata": {},
   "outputs": [
    {
     "name": "stdout",
     "output_type": "stream",
     "text": [
      "age has 1.0074317710382241 skewness\n",
      "length_of_service has 1.738061458740809 skewness\n",
      "avg_training_score has 0.45190808551707995 skewness\n"
     ]
    }
   ],
   "source": [
    "for col in continuous_cols:\n",
    "    print('{} has {} skewness'.format(col,dataset[col].skew()))"
   ]
  },
  {
   "cell_type": "code",
   "execution_count": 114,
   "metadata": {},
   "outputs": [],
   "source": [
    "def transformers(data,cols):\n",
    "    print('**Log Transformation**')\n",
    "    for col in cols:\n",
    "        transformed_data = np.log(data[col])\n",
    "        print('{} has {:.2f} skewness'.format(col,transformed_data.skew()))\n",
    "    print('\\n\\n')\n",
    "    print('**BoxCox Transformation**')\n",
    "    for col in cols:\n",
    "        transformed_data = stats.boxcox(data[col])[0]\n",
    "        print('{} has {:.2f} skewness'.format(col,stats.skew(transformed_data)))\n",
    "        \n",
    "    print('\\n\\n')\n",
    "    print('**Square Root Transformation**')\n",
    "    for col in cols:\n",
    "        transformed_data = data[col]**(1/2)\n",
    "        print('{} has {:.2f} skewness'.format(col,transformed_data.skew()))\n",
    "        \n",
    "    print('\\n\\n')\n",
    "    print('**Cube Root Transformation**')\n",
    "    for col in cols:\n",
    "        transformed_data = data[col]**(1/3)\n",
    "        print('{} has {:.2f} skewness'.format(col,transformed_data.skew()))\n",
    "        \n",
    "    print('\\n\\n')"
   ]
  },
  {
   "cell_type": "code",
   "execution_count": 115,
   "metadata": {},
   "outputs": [
    {
     "name": "stdout",
     "output_type": "stream",
     "text": [
      "**Log Transformation**\n",
      "age has 0.48 skewness\n",
      "length_of_service has -0.29 skewness\n",
      "avg_training_score has 0.22 skewness\n",
      "\n",
      "\n",
      "\n",
      "**BoxCox Transformation**\n",
      "age has 0.02 skewness\n",
      "length_of_service has -0.01 skewness\n",
      "avg_training_score has 0.06 skewness\n",
      "\n",
      "\n",
      "\n",
      "**Square Root Transformation**\n",
      "age has 0.74 skewness\n",
      "length_of_service has 0.66 skewness\n",
      "avg_training_score has 0.34 skewness\n",
      "\n",
      "\n",
      "\n",
      "**Cube Root Transformation**\n",
      "age has 0.66 skewness\n",
      "length_of_service has 0.33 skewness\n",
      "avg_training_score has 0.30 skewness\n",
      "\n",
      "\n",
      "\n"
     ]
    }
   ],
   "source": [
    "transformers(dataset,continuous_cols)"
   ]
  },
  {
   "cell_type": "markdown",
   "metadata": {},
   "source": [
    "**<span style = 'color:violet'> It is pretty clear that we need to use BoxCox Transformation for better results</span>**"
   ]
  },
  {
   "cell_type": "code",
   "execution_count": 116,
   "metadata": {
    "scrolled": false
   },
   "outputs": [
    {
     "data": {
      "image/png": "[encoded data removed]",
      "text/plain": [
       "<Figure size 720x648 with 1 Axes>"
      ]
     },
     "metadata": {},
     "output_type": "display_data"
    },
    {
     "data": {
      "image/png": "[encoded data removed]",
      "text/plain": [
       "<Figure size 720x648 with 1 Axes>"
      ]
     },
     "metadata": {},
     "output_type": "display_data"
    },
    {
     "data": {
      "image/png": "[encoded data removed]",
      "text/plain": [
       "<Figure size 720x648 with 1 Axes>"
      ]
     },
     "metadata": {},
     "output_type": "display_data"
    }
   ],
   "source": [
    "for col in continuous_cols:\n",
    "    if 0 not in dataset[col]:\n",
    "        plt.style.use('dark_background') \n",
    "        plt.figure(figsize=[10,9])\n",
    "        sns.distplot(stats.boxcox(dataset[col])[0],bins=20,color='cyan',kde_kws={'color':'red'})\n",
    "        plt.xlabel(col)\n",
    "        plt.show()\n"
   ]
  },
  {
   "cell_type": "code",
   "execution_count": 117,
   "metadata": {
    "scrolled": false
   },
   "outputs": [
    {
     "data": {
      "image/png": "[encoded data removed]",
      "text/plain": [
       "<Figure size 1080x720 with 1 Axes>"
      ]
     },
     "metadata": {},
     "output_type": "display_data"
    },
    {
     "data": {
      "image/png": "[encoded data removed]",
      "text/plain": [
       "<Figure size 1080x720 with 1 Axes>"
      ]
     },
     "metadata": {},
     "output_type": "display_data"
    },
    {
     "data": {
      "image/png": "[encoded data removed]",
      "text/plain": [
       "<Figure size 1080x720 with 1 Axes>"
      ]
     },
     "metadata": {},
     "output_type": "display_data"
    }
   ],
   "source": [
    "for col in continuous_cols:\n",
    "    plt.figure(figsize=[15,10])\n",
    "    plt.style.use('dark_background') \n",
    "    sns.countplot(x=dataset[col],hue=dataset['is_promoted'],palette='rainbow',dodge=False)\n",
    "    plt.xticks(rotation=45,ha='right')\n",
    "    plt.show()"
   ]
  },
  {
   "cell_type": "markdown",
   "metadata": {},
   "source": [
    "**We can see that :-**\n",
    "<br> <br />\n",
    "<span style='color:red'>1. Employees who have higher length of service are less promoted because they might be already at a high position </span>\n",
    "<br> <br />\n",
    "<span style='color:green'>2. Age of an employee follows a right skewed distribution but the skewness is less. </span>\n",
    "<br> <br />\n",
    "<span style='color:blue'>3. Employees who have less trainings for a specific course are less selected. </span>\n",
    "<br> <br />\n",
    "<span style='color:darkorange'>4. Average training score of the employees who are promoted follows a periodic gaussian distribution and right skewed distribution at the last and also employees are getting promoted at a very high rate if their score is atleast . </span>\n",
    "<br> <br />"
   ]
  },
  {
   "cell_type": "markdown",
   "metadata": {},
   "source": [
    "**Now we will see for the outliers in continuous numerical variables**"
   ]
  },
  {
   "cell_type": "code",
   "execution_count": 118,
   "metadata": {
    "scrolled": false
   },
   "outputs": [
    {
     "data": {
      "image/png": "[encoded data removed]",
      "text/plain": [
       "<Figure size 720x720 with 1 Axes>"
      ]
     },
     "metadata": {},
     "output_type": "display_data"
    },
    {
     "data": {
      "image/png": "[encoded data removed]",
      "text/plain": [
       "<Figure size 720x720 with 1 Axes>"
      ]
     },
     "metadata": {},
     "output_type": "display_data"
    },
    {
     "data": {
      "image/png": "[encoded data removed]",
      "text/plain": [
       "<Figure size 720x720 with 1 Axes>"
      ]
     },
     "metadata": {},
     "output_type": "display_data"
    }
   ],
   "source": [
    "for col in continuous_cols:\n",
    "    plt.style.use('dark_background')\n",
    "    plt.figure(figsize=[10,10])\n",
    "    plt.boxplot(x=col,data=dataset,notch=True)\n",
    "    plt.ylabel(col)\n",
    "    plt.show()"
   ]
  },
  {
   "cell_type": "markdown",
   "metadata": {},
   "source": [
    "**Presumably age and length_of_service columns has outliers lets see a more detailed summary of those two columns**"
   ]
  },
  {
   "cell_type": "code",
   "execution_count": 119,
   "metadata": {},
   "outputs": [
    {
     "data": {
      "text/plain": [
       "count    54808.000000\n",
       "mean        34.803915\n",
       "std          7.660169\n",
       "min         20.000000\n",
       "25%         29.000000\n",
       "50%         33.000000\n",
       "75%         39.000000\n",
       "max         60.000000\n",
       "Name: age, dtype: float64"
      ]
     },
     "execution_count": 119,
     "metadata": {},
     "output_type": "execute_result"
    }
   ],
   "source": [
    "dataset['age'].describe()"
   ]
  },
  {
   "cell_type": "markdown",
   "metadata": {},
   "source": [
    "### <span style='color:green'>Understand that Age column here is a bit right skewed but we can treat it as a gaussian distribution as the outlier values are not that extreme</span>\n",
    "\n",
    "#### For that we will remove the values above 3rd deviation from both ends in feature engineering"
   ]
  },
  {
   "cell_type": "code",
   "execution_count": 120,
   "metadata": {},
   "outputs": [
    {
     "data": {
      "text/plain": [
       "(11.82340788203259, 57.784423091547914)"
      ]
     },
     "execution_count": 120,
     "metadata": {},
     "output_type": "execute_result"
    }
   ],
   "source": [
    "upper_limit_age = dataset['age'].mean() + dataset['age'].std()*3\n",
    "lower_limit_age = dataset['age'].mean() - dataset['age'].std()*3\n",
    "lower_limit_age,upper_limit_age"
   ]
  },
  {
   "cell_type": "markdown",
   "metadata": {},
   "source": [
    "**As min value for age is 20 so lower_limit is satisfied**\n",
    "<br> <br />\n",
    "**For upper_limit we will remove the outliers having age above 57**"
   ]
  },
  {
   "cell_type": "code",
   "execution_count": 121,
   "metadata": {},
   "outputs": [
    {
     "data": {
      "text/plain": [
       "count    54808.000000\n",
       "mean         5.865512\n",
       "std          4.265094\n",
       "min          1.000000\n",
       "25%          3.000000\n",
       "50%          5.000000\n",
       "75%          7.000000\n",
       "max         37.000000\n",
       "Name: length_of_service, dtype: float64"
      ]
     },
     "execution_count": 121,
     "metadata": {},
     "output_type": "execute_result"
    }
   ],
   "source": [
    "dataset['length_of_service'].describe()"
   ]
  },
  {
   "cell_type": "markdown",
   "metadata": {},
   "source": [
    "### <span style='color:purple'>Understand that length_of_service column here is a right skewed distribution so we need to use IQR method to handle it and since it has extreme values as compared to rest of the data we will use 3*IQR </span>"
   ]
  },
  {
   "cell_type": "code",
   "execution_count": 122,
   "metadata": {},
   "outputs": [
    {
     "data": {
      "text/plain": [
       "(-9.0, 19.0)"
      ]
     },
     "execution_count": 122,
     "metadata": {},
     "output_type": "execute_result"
    }
   ],
   "source": [
    "IQR = dataset.length_of_service.quantile(0.75) - dataset.length_of_service.quantile(0.25)\n",
    "upper_limit_service = dataset.length_of_service.quantile(0.75) + 3*IQR\n",
    "lower_limit_service = dataset.length_of_service.quantile(0.25) - 3*IQR\n",
    "lower_limit_service,upper_limit_service"
   ]
  },
  {
   "cell_type": "markdown",
   "metadata": {},
   "source": [
    "**-9 doesn't make any sense so employees having more than 19 years of experience are outliers and will be handled**"
   ]
  },
  {
   "cell_type": "markdown",
   "metadata": {},
   "source": [
    "## <span style='color:red'>One thing to keep in mind that these outliers will be handled for outlier-sensitive algorithms and not for the algorithms which are robust to it. </span>"
   ]
  },
  {
   "cell_type": "code",
   "execution_count": 123,
   "metadata": {},
   "outputs": [
    {
     "data": {
      "text/plain": [
       "<AxesSubplot:>"
      ]
     },
     "execution_count": 123,
     "metadata": {},
     "output_type": "execute_result"
    },
    {
     "data": {
      "image/png": "[encoded data removed]",
      "text/plain": [
       "<Figure size 864x648 with 2 Axes>"
      ]
     },
     "metadata": {},
     "output_type": "display_data"
    }
   ],
   "source": [
    "plt.style.use('Solarize_Light2')\n",
    "plt.figure(figsize=[12,9])\n",
    "sns.heatmap(data=dataset.drop('is_promoted',axis=1).corr(),cmap=plt.cm.gnuplot2,annot=True)"
   ]
  },
  {
   "cell_type": "markdown",
   "metadata": {},
   "source": [
    "**It is quite evident that length_of_service and age will have correlation**"
   ]
  },
  {
   "cell_type": "code",
   "execution_count": 124,
   "metadata": {},
   "outputs": [
    {
     "data": {
      "text/html": [
       "<div>\n",
       "<style scoped>\n",
       "    .dataframe tbody tr th:only-of-type {\n",
       "        vertical-align: middle;\n",
       "    }\n",
       "\n",
       "    .dataframe tbody tr th {\n",
       "        vertical-align: top;\n",
       "    }\n",
       "\n",
       "    .dataframe thead th {\n",
       "        text-align: right;\n",
       "    }\n",
       "</style>\n",
       "<table border=\"1\" class=\"dataframe\">\n",
       "  <thead>\n",
       "    <tr style=\"text-align: right;\">\n",
       "      <th></th>\n",
       "      <th>age</th>\n",
       "      <th>length_of_service</th>\n",
       "    </tr>\n",
       "  </thead>\n",
       "  <tbody>\n",
       "    <tr>\n",
       "      <th>age</th>\n",
       "      <td>1.000000</td>\n",
       "      <td>0.657111</td>\n",
       "    </tr>\n",
       "    <tr>\n",
       "      <th>length_of_service</th>\n",
       "      <td>0.657111</td>\n",
       "      <td>1.000000</td>\n",
       "    </tr>\n",
       "  </tbody>\n",
       "</table>\n",
       "</div>"
      ],
      "text/plain": [
       "                        age  length_of_service\n",
       "age                1.000000           0.657111\n",
       "length_of_service  0.657111           1.000000"
      ]
     },
     "execution_count": 124,
     "metadata": {},
     "output_type": "execute_result"
    }
   ],
   "source": [
    "dataset[['age','length_of_service']].corr()\n",
    "## Not that of a high value so we can take both "
   ]
  },
  {
   "cell_type": "markdown",
   "metadata": {},
   "source": [
    "## To prevent Data leakage use train-test-split before any feature engineering"
   ]
  },
  {
   "cell_type": "code",
   "execution_count": 132,
   "metadata": {},
   "outputs": [],
   "source": [
    "from sklearn.model_selection import train_test_split\n",
    "train,validation = train_test_split(dataset,test_size=0.25,random_state=42)"
   ]
  },
  {
   "cell_type": "markdown",
   "metadata": {},
   "source": [
    "##  <span style='color:indigo'>Lets start the feature engineering now. We will do it for validation simultaneously </span>"
   ]
  },
  {
   "cell_type": "markdown",
   "metadata": {},
   "source": [
    "### Checklist\n",
    "\n",
    "- [ ] <span style='color:slateblue'> **Removing Region column** </span>\n",
    "- [ ] <span style='color:slateblue'> **Handling missing values** </span>\n",
    "- [ ] <span style='color:slateblue'> **Changing the no_of_trainings column** </span>\n",
    "- [ ] <span style='color:slateblue'> **Handling the categorical columns** </span>\n",
    "- [ ] <span style='color:slateblue'> **Handling the discrete_numerical columns** </span>\n",
    "- [ ] <span style='color:slateblue'> **BoxCox Transformation of continuous columns to reduce skewness** </span>\n",
    "- [ ] <span style='color:slateblue'> **Handling in imbalanced data.** </span>\n",
    "\n"
   ]
  },
  {
   "cell_type": "code",
   "execution_count": 133,
   "metadata": {},
   "outputs": [],
   "source": [
    "X_train = train.drop('is_promoted',axis=1)\n",
    "y_train = train.is_promoted"
   ]
  },
  {
   "cell_type": "code",
   "execution_count": 134,
   "metadata": {},
   "outputs": [],
   "source": [
    "X_val = validation.drop('is_promoted',axis=1)\n",
    "y_val = validation.is_promoted"
   ]
  },
  {
   "cell_type": "code",
   "execution_count": 135,
   "metadata": {},
   "outputs": [
    {
     "name": "stdout",
     "output_type": "stream",
     "text": [
      "Index(['department', 'education', 'gender', 'recruitment_channel',\n",
      "       'no_of_trainings', 'age', 'previous_year_rating', 'length_of_service',\n",
      "       'KPIs_met >80%', 'awards_won?', 'avg_training_score'],\n",
      "      dtype='object')\n"
     ]
    }
   ],
   "source": [
    "X_train = X_train.drop('region',axis=1)\n",
    "X_val = X_val.drop('region',axis=1)\n",
    "print(X_train.columns)"
   ]
  },
  {
   "cell_type": "markdown",
   "metadata": {},
   "source": [
    "- ✅ <span style='color:slateblue'> **Removing Region column** </span>\n",
    "- [ ] <span style='color:slateblue'> **Handling missing values** </span>\n",
    "- [ ] <span style='color:slateblue'> **Changing the no_of_trainings column** </span>\n",
    "- [ ] <span style='color:slateblue'> **Handling the categorical columns** </span>\n",
    "- [ ] <span style='color:slateblue'> **Handling the discrete_numerical columns** </span>\n",
    "- [ ] <span style='color:slateblue'> **BoxCox Transformation of continuous columns to reduce skewness** </span>\n",
    "- [ ] <span style='color:slateblue'> **Handling in imbalanced data.** </span>\n"
   ]
  },
  {
   "cell_type": "code",
   "execution_count": 136,
   "metadata": {},
   "outputs": [
    {
     "data": {
      "text/plain": [
       "(3.0, 3.0)"
      ]
     },
     "execution_count": 136,
     "metadata": {},
     "output_type": "execute_result"
    }
   ],
   "source": [
    "X_train.previous_year_rating.median(skipna=True),X_val.previous_year_rating.median(skipna=True)"
   ]
  },
  {
   "cell_type": "code",
   "execution_count": 137,
   "metadata": {},
   "outputs": [
    {
     "data": {
      "text/html": [
       "<div>\n",
       "<style scoped>\n",
       "    .dataframe tbody tr th:only-of-type {\n",
       "        vertical-align: middle;\n",
       "    }\n",
       "\n",
       "    .dataframe tbody tr th {\n",
       "        vertical-align: top;\n",
       "    }\n",
       "\n",
       "    .dataframe thead th {\n",
       "        text-align: right;\n",
       "    }\n",
       "</style>\n",
       "<table border=\"1\" class=\"dataframe\">\n",
       "  <thead>\n",
       "    <tr style=\"text-align: right;\">\n",
       "      <th></th>\n",
       "      <th>department</th>\n",
       "      <th>education</th>\n",
       "      <th>gender</th>\n",
       "      <th>recruitment_channel</th>\n",
       "      <th>no_of_trainings</th>\n",
       "      <th>age</th>\n",
       "      <th>previous_year_rating</th>\n",
       "      <th>length_of_service</th>\n",
       "      <th>KPIs_met &gt;80%</th>\n",
       "      <th>awards_won?</th>\n",
       "      <th>avg_training_score</th>\n",
       "    </tr>\n",
       "    <tr>\n",
       "      <th>employee_id</th>\n",
       "      <th></th>\n",
       "      <th></th>\n",
       "      <th></th>\n",
       "      <th></th>\n",
       "      <th></th>\n",
       "      <th></th>\n",
       "      <th></th>\n",
       "      <th></th>\n",
       "      <th></th>\n",
       "      <th></th>\n",
       "      <th></th>\n",
       "    </tr>\n",
       "  </thead>\n",
       "  <tbody>\n",
       "    <tr>\n",
       "      <th>59283</th>\n",
       "      <td>Sales &amp; Marketing</td>\n",
       "      <td>Bachelor's</td>\n",
       "      <td>m</td>\n",
       "      <td>other</td>\n",
       "      <td>1</td>\n",
       "      <td>25</td>\n",
       "      <td>3.0</td>\n",
       "      <td>1</td>\n",
       "      <td>0</td>\n",
       "      <td>1</td>\n",
       "      <td>50</td>\n",
       "    </tr>\n",
       "    <tr>\n",
       "      <th>37987</th>\n",
       "      <td>Operations</td>\n",
       "      <td>Bachelor's</td>\n",
       "      <td>f</td>\n",
       "      <td>other</td>\n",
       "      <td>2</td>\n",
       "      <td>35</td>\n",
       "      <td>1.0</td>\n",
       "      <td>9</td>\n",
       "      <td>0</td>\n",
       "      <td>0</td>\n",
       "      <td>55</td>\n",
       "    </tr>\n",
       "    <tr>\n",
       "      <th>48952</th>\n",
       "      <td>Technology</td>\n",
       "      <td>Master's &amp; above</td>\n",
       "      <td>f</td>\n",
       "      <td>sourcing</td>\n",
       "      <td>1</td>\n",
       "      <td>39</td>\n",
       "      <td>4.0</td>\n",
       "      <td>9</td>\n",
       "      <td>0</td>\n",
       "      <td>0</td>\n",
       "      <td>80</td>\n",
       "    </tr>\n",
       "    <tr>\n",
       "      <th>15864</th>\n",
       "      <td>HR</td>\n",
       "      <td>Bachelor's</td>\n",
       "      <td>f</td>\n",
       "      <td>other</td>\n",
       "      <td>1</td>\n",
       "      <td>26</td>\n",
       "      <td>3.0</td>\n",
       "      <td>3</td>\n",
       "      <td>0</td>\n",
       "      <td>0</td>\n",
       "      <td>47</td>\n",
       "    </tr>\n",
       "    <tr>\n",
       "      <th>41474</th>\n",
       "      <td>Operations</td>\n",
       "      <td>Bachelor's</td>\n",
       "      <td>f</td>\n",
       "      <td>other</td>\n",
       "      <td>1</td>\n",
       "      <td>25</td>\n",
       "      <td>3.0</td>\n",
       "      <td>1</td>\n",
       "      <td>1</td>\n",
       "      <td>0</td>\n",
       "      <td>62</td>\n",
       "    </tr>\n",
       "  </tbody>\n",
       "</table>\n",
       "</div>"
      ],
      "text/plain": [
       "                    department         education gender recruitment_channel  \\\n",
       "employee_id                                                                   \n",
       "59283        Sales & Marketing        Bachelor's      m               other   \n",
       "37987               Operations        Bachelor's      f               other   \n",
       "48952               Technology  Master's & above      f            sourcing   \n",
       "15864                       HR        Bachelor's      f               other   \n",
       "41474               Operations        Bachelor's      f               other   \n",
       "\n",
       "             no_of_trainings  age  previous_year_rating  length_of_service  \\\n",
       "employee_id                                                                  \n",
       "59283                      1   25                   3.0                  1   \n",
       "37987                      2   35                   1.0                  9   \n",
       "48952                      1   39                   4.0                  9   \n",
       "15864                      1   26                   3.0                  3   \n",
       "41474                      1   25                   3.0                  1   \n",
       "\n",
       "             KPIs_met >80%  awards_won?  avg_training_score  \n",
       "employee_id                                                  \n",
       "59283                    0            1                  50  \n",
       "37987                    0            0                  55  \n",
       "48952                    0            0                  80  \n",
       "15864                    0            0                  47  \n",
       "41474                    1            0                  62  "
      ]
     },
     "execution_count": 137,
     "metadata": {},
     "output_type": "execute_result"
    }
   ],
   "source": [
    "X_train['education'] = np.where(X_train['education'].isnull() , \"Bachelor's\" ,X_train['education'])\n",
    "X_train['previous_year_rating'] = np.where(X_train['previous_year_rating'].isnull() , X_train.previous_year_rating.median(skipna=True),\n",
    "                                     X_train['previous_year_rating'])\n",
    "X_train.head()"
   ]
  },
  {
   "cell_type": "code",
   "execution_count": 138,
   "metadata": {},
   "outputs": [],
   "source": [
    "X_val['education'] = np.where(X_val['education'].isnull() , \"Bachelor's\" ,X_val['education'])\n",
    "X_val['previous_year_rating'] = np.where(X_val['previous_year_rating'].isnull() , X_val.previous_year_rating.median(skipna=True),\n",
    "                                     X_val['previous_year_rating'])"
   ]
  },
  {
   "cell_type": "code",
   "execution_count": 139,
   "metadata": {},
   "outputs": [
    {
     "data": {
      "text/plain": [
       "department              0\n",
       "education               0\n",
       "gender                  0\n",
       "recruitment_channel     0\n",
       "no_of_trainings         0\n",
       "age                     0\n",
       "previous_year_rating    0\n",
       "length_of_service       0\n",
       "KPIs_met >80%           0\n",
       "awards_won?             0\n",
       "avg_training_score      0\n",
       "dtype: int64"
      ]
     },
     "execution_count": 139,
     "metadata": {},
     "output_type": "execute_result"
    }
   ],
   "source": [
    "X_train.isnull().sum()"
   ]
  },
  {
   "cell_type": "markdown",
   "metadata": {},
   "source": [
    "- ✅ <span style='color:slateblue'> **Removing Region column** </span>\n",
    "- ✅ <span style='color:slateblue'> **Handling missing values** </span>\n",
    "- [ ] <span style='color:slateblue'> **Changing the no_of_trainings column** </span>\n",
    "- [ ] <span style='color:slateblue'> **Handling the categorical columns** </span>\n",
    "- [ ] <span style='color:slateblue'> **Handling the discrete_numerical columns** </span>\n",
    "- [ ] <span style='color:slateblue'> **BoxCox Transformation of continuous columns to reduce skewness** </span>\n",
    "- [ ] <span style='color:slateblue'> **Handling in imbalanced data.** </span>\n"
   ]
  },
  {
   "cell_type": "code",
   "execution_count": 141,
   "metadata": {},
   "outputs": [
    {
     "data": {
      "text/plain": [
       "1                 33227\n",
       "2                  6020\n",
       "3                  1349\n",
       "4                   360\n",
       "more_trainings      150\n",
       "Name: no_of_trainings, dtype: int64"
      ]
     },
     "execution_count": 141,
     "metadata": {},
     "output_type": "execute_result"
    }
   ],
   "source": [
    "X_train['no_of_trainings'] = np.where(X_train['no_of_trainings']>4,'more_trainings',X_train['no_of_trainings'])\n",
    "X_train['no_of_trainings'].value_counts()"
   ]
  },
  {
   "cell_type": "code",
   "execution_count": 142,
   "metadata": {},
   "outputs": [],
   "source": [
    "X_val['no_of_trainings'] = np.where(X_val['no_of_trainings']>4,'more_trainings',X_val['no_of_trainings'])"
   ]
  },
  {
   "cell_type": "markdown",
   "metadata": {},
   "source": [
    "- ✅ <span style='color:slateblue'> **Removing Region column** </span>\n",
    "- ✅ <span style='color:slateblue'> **Handling missing values** </span>\n",
    "- ✅ <span style='color:slateblue'> **Changing the no_of_trainings column** </span>\n",
    "- [ ] <span style='color:slateblue'> **Handling the categorical columns** </span>\n",
    "- [ ] <span style='color:slateblue'> **Handling the discrete_numerical columns** </span>\n",
    "- [ ] <span style='color:slateblue'> **BoxCox Transformation of continuous columns to reduce skewness** </span>\n",
    "- [ ] <span style='color:slateblue'> **Handling in imbalanced data.** </span>\n"
   ]
  },
  {
   "cell_type": "code",
   "execution_count": 143,
   "metadata": {},
   "outputs": [
    {
     "data": {
      "text/plain": [
       "['department', 'education', 'gender', 'recruitment_channel']"
      ]
     },
     "execution_count": 143,
     "metadata": {},
     "output_type": "execute_result"
    }
   ],
   "source": [
    "categorical_cols.remove('region')\n",
    "categorical_cols"
   ]
  },
  {
   "cell_type": "code",
   "execution_count": 144,
   "metadata": {},
   "outputs": [
    {
     "data": {
      "text/html": [
       "<div>\n",
       "<style scoped>\n",
       "    .dataframe tbody tr th:only-of-type {\n",
       "        vertical-align: middle;\n",
       "    }\n",
       "\n",
       "    .dataframe tbody tr th {\n",
       "        vertical-align: top;\n",
       "    }\n",
       "\n",
       "    .dataframe thead th {\n",
       "        text-align: right;\n",
       "    }\n",
       "</style>\n",
       "<table border=\"1\" class=\"dataframe\">\n",
       "  <thead>\n",
       "    <tr style=\"text-align: right;\">\n",
       "      <th></th>\n",
       "      <th>no_of_trainings</th>\n",
       "      <th>age</th>\n",
       "      <th>previous_year_rating</th>\n",
       "      <th>length_of_service</th>\n",
       "      <th>KPIs_met &gt;80%</th>\n",
       "      <th>awards_won?</th>\n",
       "      <th>avg_training_score</th>\n",
       "      <th>department_Finance</th>\n",
       "      <th>department_HR</th>\n",
       "      <th>department_Legal</th>\n",
       "      <th>department_Operations</th>\n",
       "      <th>department_Procurement</th>\n",
       "      <th>department_R&amp;D</th>\n",
       "      <th>department_Sales &amp; Marketing</th>\n",
       "      <th>department_Technology</th>\n",
       "      <th>education_Below Secondary</th>\n",
       "      <th>education_Master's &amp; above</th>\n",
       "      <th>gender_m</th>\n",
       "      <th>recruitment_channel_referred</th>\n",
       "      <th>recruitment_channel_sourcing</th>\n",
       "    </tr>\n",
       "    <tr>\n",
       "      <th>employee_id</th>\n",
       "      <th></th>\n",
       "      <th></th>\n",
       "      <th></th>\n",
       "      <th></th>\n",
       "      <th></th>\n",
       "      <th></th>\n",
       "      <th></th>\n",
       "      <th></th>\n",
       "      <th></th>\n",
       "      <th></th>\n",
       "      <th></th>\n",
       "      <th></th>\n",
       "      <th></th>\n",
       "      <th></th>\n",
       "      <th></th>\n",
       "      <th></th>\n",
       "      <th></th>\n",
       "      <th></th>\n",
       "      <th></th>\n",
       "      <th></th>\n",
       "    </tr>\n",
       "  </thead>\n",
       "  <tbody>\n",
       "    <tr>\n",
       "      <th>59283</th>\n",
       "      <td>1</td>\n",
       "      <td>25</td>\n",
       "      <td>3.0</td>\n",
       "      <td>1</td>\n",
       "      <td>0</td>\n",
       "      <td>1</td>\n",
       "      <td>50</td>\n",
       "      <td>0</td>\n",
       "      <td>0</td>\n",
       "      <td>0</td>\n",
       "      <td>0</td>\n",
       "      <td>0</td>\n",
       "      <td>0</td>\n",
       "      <td>1</td>\n",
       "      <td>0</td>\n",
       "      <td>0</td>\n",
       "      <td>0</td>\n",
       "      <td>1</td>\n",
       "      <td>0</td>\n",
       "      <td>0</td>\n",
       "    </tr>\n",
       "    <tr>\n",
       "      <th>37987</th>\n",
       "      <td>2</td>\n",
       "      <td>35</td>\n",
       "      <td>1.0</td>\n",
       "      <td>9</td>\n",
       "      <td>0</td>\n",
       "      <td>0</td>\n",
       "      <td>55</td>\n",
       "      <td>0</td>\n",
       "      <td>0</td>\n",
       "      <td>0</td>\n",
       "      <td>1</td>\n",
       "      <td>0</td>\n",
       "      <td>0</td>\n",
       "      <td>0</td>\n",
       "      <td>0</td>\n",
       "      <td>0</td>\n",
       "      <td>0</td>\n",
       "      <td>0</td>\n",
       "      <td>0</td>\n",
       "      <td>0</td>\n",
       "    </tr>\n",
       "    <tr>\n",
       "      <th>48952</th>\n",
       "      <td>1</td>\n",
       "      <td>39</td>\n",
       "      <td>4.0</td>\n",
       "      <td>9</td>\n",
       "      <td>0</td>\n",
       "      <td>0</td>\n",
       "      <td>80</td>\n",
       "      <td>0</td>\n",
       "      <td>0</td>\n",
       "      <td>0</td>\n",
       "      <td>0</td>\n",
       "      <td>0</td>\n",
       "      <td>0</td>\n",
       "      <td>0</td>\n",
       "      <td>1</td>\n",
       "      <td>0</td>\n",
       "      <td>1</td>\n",
       "      <td>0</td>\n",
       "      <td>0</td>\n",
       "      <td>1</td>\n",
       "    </tr>\n",
       "    <tr>\n",
       "      <th>15864</th>\n",
       "      <td>1</td>\n",
       "      <td>26</td>\n",
       "      <td>3.0</td>\n",
       "      <td>3</td>\n",
       "      <td>0</td>\n",
       "      <td>0</td>\n",
       "      <td>47</td>\n",
       "      <td>0</td>\n",
       "      <td>1</td>\n",
       "      <td>0</td>\n",
       "      <td>0</td>\n",
       "      <td>0</td>\n",
       "      <td>0</td>\n",
       "      <td>0</td>\n",
       "      <td>0</td>\n",
       "      <td>0</td>\n",
       "      <td>0</td>\n",
       "      <td>0</td>\n",
       "      <td>0</td>\n",
       "      <td>0</td>\n",
       "    </tr>\n",
       "    <tr>\n",
       "      <th>41474</th>\n",
       "      <td>1</td>\n",
       "      <td>25</td>\n",
       "      <td>3.0</td>\n",
       "      <td>1</td>\n",
       "      <td>1</td>\n",
       "      <td>0</td>\n",
       "      <td>62</td>\n",
       "      <td>0</td>\n",
       "      <td>0</td>\n",
       "      <td>0</td>\n",
       "      <td>1</td>\n",
       "      <td>0</td>\n",
       "      <td>0</td>\n",
       "      <td>0</td>\n",
       "      <td>0</td>\n",
       "      <td>0</td>\n",
       "      <td>0</td>\n",
       "      <td>0</td>\n",
       "      <td>0</td>\n",
       "      <td>0</td>\n",
       "    </tr>\n",
       "  </tbody>\n",
       "</table>\n",
       "</div>"
      ],
      "text/plain": [
       "            no_of_trainings  age  previous_year_rating  length_of_service  \\\n",
       "employee_id                                                                 \n",
       "59283                     1   25                   3.0                  1   \n",
       "37987                     2   35                   1.0                  9   \n",
       "48952                     1   39                   4.0                  9   \n",
       "15864                     1   26                   3.0                  3   \n",
       "41474                     1   25                   3.0                  1   \n",
       "\n",
       "             KPIs_met >80%  awards_won?  avg_training_score  \\\n",
       "employee_id                                                   \n",
       "59283                    0            1                  50   \n",
       "37987                    0            0                  55   \n",
       "48952                    0            0                  80   \n",
       "15864                    0            0                  47   \n",
       "41474                    1            0                  62   \n",
       "\n",
       "             department_Finance  department_HR  department_Legal  \\\n",
       "employee_id                                                        \n",
       "59283                         0              0                 0   \n",
       "37987                         0              0                 0   \n",
       "48952                         0              0                 0   \n",
       "15864                         0              1                 0   \n",
       "41474                         0              0                 0   \n",
       "\n",
       "             department_Operations  department_Procurement  department_R&D  \\\n",
       "employee_id                                                                  \n",
       "59283                            0                       0               0   \n",
       "37987                            1                       0               0   \n",
       "48952                            0                       0               0   \n",
       "15864                            0                       0               0   \n",
       "41474                            1                       0               0   \n",
       "\n",
       "             department_Sales & Marketing  department_Technology  \\\n",
       "employee_id                                                        \n",
       "59283                                   1                      0   \n",
       "37987                                   0                      0   \n",
       "48952                                   0                      1   \n",
       "15864                                   0                      0   \n",
       "41474                                   0                      0   \n",
       "\n",
       "             education_Below Secondary  education_Master's & above  gender_m  \\\n",
       "employee_id                                                                    \n",
       "59283                                0                           0         1   \n",
       "37987                                0                           0         0   \n",
       "48952                                0                           1         0   \n",
       "15864                                0                           0         0   \n",
       "41474                                0                           0         0   \n",
       "\n",
       "             recruitment_channel_referred  recruitment_channel_sourcing  \n",
       "employee_id                                                              \n",
       "59283                                   0                             0  \n",
       "37987                                   0                             0  \n",
       "48952                                   0                             1  \n",
       "15864                                   0                             0  \n",
       "41474                                   0                             0  "
      ]
     },
     "execution_count": 144,
     "metadata": {},
     "output_type": "execute_result"
    }
   ],
   "source": [
    "## We are not taking region column\n",
    "for col in categorical_cols:\n",
    "    X_train = pd.get_dummies(data=X_train,columns=[col],drop_first=True)\n",
    "\n",
    "X_train.head()"
   ]
  },
  {
   "cell_type": "code",
   "execution_count": 145,
   "metadata": {},
   "outputs": [],
   "source": [
    "for col in categorical_cols:\n",
    "    X_val = pd.get_dummies(data=X_val,columns=[col],drop_first=True)\n"
   ]
  },
  {
   "cell_type": "markdown",
   "metadata": {},
   "source": [
    "- ✅ <span style='color:slateblue'> **Removing Region column** </span>\n",
    "- ✅ <span style='color:slateblue'> **Handling missing values** </span>\n",
    "- ✅ <span style='color:slateblue'> **Changing the no_of_trainings column** </span>\n",
    "- ✅ <span style='color:slateblue'> **Handling the categorical columns** </span>\n",
    "- [ ] <span style='color:slateblue'> **Handling the discrete_numerical columns** </span>\n",
    "- [ ] <span style='color:slateblue'> **BoxCox Transformation of continuous columns to reduce skewness** </span>\n",
    "- [ ] <span style='color:slateblue'> **Handling in imbalanced data.** </span>\n"
   ]
  },
  {
   "cell_type": "code",
   "execution_count": 146,
   "metadata": {},
   "outputs": [
    {
     "data": {
      "text/html": [
       "<div>\n",
       "<style scoped>\n",
       "    .dataframe tbody tr th:only-of-type {\n",
       "        vertical-align: middle;\n",
       "    }\n",
       "\n",
       "    .dataframe tbody tr th {\n",
       "        vertical-align: top;\n",
       "    }\n",
       "\n",
       "    .dataframe thead th {\n",
       "        text-align: right;\n",
       "    }\n",
       "</style>\n",
       "<table border=\"1\" class=\"dataframe\">\n",
       "  <thead>\n",
       "    <tr style=\"text-align: right;\">\n",
       "      <th></th>\n",
       "      <th>age</th>\n",
       "      <th>previous_year_rating</th>\n",
       "      <th>length_of_service</th>\n",
       "      <th>KPIs_met &gt;80%</th>\n",
       "      <th>awards_won?</th>\n",
       "      <th>avg_training_score</th>\n",
       "      <th>department_Finance</th>\n",
       "      <th>department_HR</th>\n",
       "      <th>department_Legal</th>\n",
       "      <th>department_Operations</th>\n",
       "      <th>department_Procurement</th>\n",
       "      <th>department_R&amp;D</th>\n",
       "      <th>department_Sales &amp; Marketing</th>\n",
       "      <th>department_Technology</th>\n",
       "      <th>education_Below Secondary</th>\n",
       "      <th>education_Master's &amp; above</th>\n",
       "      <th>gender_m</th>\n",
       "      <th>recruitment_channel_referred</th>\n",
       "      <th>recruitment_channel_sourcing</th>\n",
       "      <th>no_of_trainings_2</th>\n",
       "      <th>no_of_trainings_3</th>\n",
       "      <th>no_of_trainings_4</th>\n",
       "      <th>no_of_trainings_more_trainings</th>\n",
       "    </tr>\n",
       "    <tr>\n",
       "      <th>employee_id</th>\n",
       "      <th></th>\n",
       "      <th></th>\n",
       "      <th></th>\n",
       "      <th></th>\n",
       "      <th></th>\n",
       "      <th></th>\n",
       "      <th></th>\n",
       "      <th></th>\n",
       "      <th></th>\n",
       "      <th></th>\n",
       "      <th></th>\n",
       "      <th></th>\n",
       "      <th></th>\n",
       "      <th></th>\n",
       "      <th></th>\n",
       "      <th></th>\n",
       "      <th></th>\n",
       "      <th></th>\n",
       "      <th></th>\n",
       "      <th></th>\n",
       "      <th></th>\n",
       "      <th></th>\n",
       "      <th></th>\n",
       "    </tr>\n",
       "  </thead>\n",
       "  <tbody>\n",
       "    <tr>\n",
       "      <th>59283</th>\n",
       "      <td>25</td>\n",
       "      <td>3.0</td>\n",
       "      <td>1</td>\n",
       "      <td>0</td>\n",
       "      <td>1</td>\n",
       "      <td>50</td>\n",
       "      <td>0</td>\n",
       "      <td>0</td>\n",
       "      <td>0</td>\n",
       "      <td>0</td>\n",
       "      <td>0</td>\n",
       "      <td>0</td>\n",
       "      <td>1</td>\n",
       "      <td>0</td>\n",
       "      <td>0</td>\n",
       "      <td>0</td>\n",
       "      <td>1</td>\n",
       "      <td>0</td>\n",
       "      <td>0</td>\n",
       "      <td>0</td>\n",
       "      <td>0</td>\n",
       "      <td>0</td>\n",
       "      <td>0</td>\n",
       "    </tr>\n",
       "    <tr>\n",
       "      <th>37987</th>\n",
       "      <td>35</td>\n",
       "      <td>1.0</td>\n",
       "      <td>9</td>\n",
       "      <td>0</td>\n",
       "      <td>0</td>\n",
       "      <td>55</td>\n",
       "      <td>0</td>\n",
       "      <td>0</td>\n",
       "      <td>0</td>\n",
       "      <td>1</td>\n",
       "      <td>0</td>\n",
       "      <td>0</td>\n",
       "      <td>0</td>\n",
       "      <td>0</td>\n",
       "      <td>0</td>\n",
       "      <td>0</td>\n",
       "      <td>0</td>\n",
       "      <td>0</td>\n",
       "      <td>0</td>\n",
       "      <td>1</td>\n",
       "      <td>0</td>\n",
       "      <td>0</td>\n",
       "      <td>0</td>\n",
       "    </tr>\n",
       "    <tr>\n",
       "      <th>48952</th>\n",
       "      <td>39</td>\n",
       "      <td>4.0</td>\n",
       "      <td>9</td>\n",
       "      <td>0</td>\n",
       "      <td>0</td>\n",
       "      <td>80</td>\n",
       "      <td>0</td>\n",
       "      <td>0</td>\n",
       "      <td>0</td>\n",
       "      <td>0</td>\n",
       "      <td>0</td>\n",
       "      <td>0</td>\n",
       "      <td>0</td>\n",
       "      <td>1</td>\n",
       "      <td>0</td>\n",
       "      <td>1</td>\n",
       "      <td>0</td>\n",
       "      <td>0</td>\n",
       "      <td>1</td>\n",
       "      <td>0</td>\n",
       "      <td>0</td>\n",
       "      <td>0</td>\n",
       "      <td>0</td>\n",
       "    </tr>\n",
       "    <tr>\n",
       "      <th>15864</th>\n",
       "      <td>26</td>\n",
       "      <td>3.0</td>\n",
       "      <td>3</td>\n",
       "      <td>0</td>\n",
       "      <td>0</td>\n",
       "      <td>47</td>\n",
       "      <td>0</td>\n",
       "      <td>1</td>\n",
       "      <td>0</td>\n",
       "      <td>0</td>\n",
       "      <td>0</td>\n",
       "      <td>0</td>\n",
       "      <td>0</td>\n",
       "      <td>0</td>\n",
       "      <td>0</td>\n",
       "      <td>0</td>\n",
       "      <td>0</td>\n",
       "      <td>0</td>\n",
       "      <td>0</td>\n",
       "      <td>0</td>\n",
       "      <td>0</td>\n",
       "      <td>0</td>\n",
       "      <td>0</td>\n",
       "    </tr>\n",
       "    <tr>\n",
       "      <th>41474</th>\n",
       "      <td>25</td>\n",
       "      <td>3.0</td>\n",
       "      <td>1</td>\n",
       "      <td>1</td>\n",
       "      <td>0</td>\n",
       "      <td>62</td>\n",
       "      <td>0</td>\n",
       "      <td>0</td>\n",
       "      <td>0</td>\n",
       "      <td>1</td>\n",
       "      <td>0</td>\n",
       "      <td>0</td>\n",
       "      <td>0</td>\n",
       "      <td>0</td>\n",
       "      <td>0</td>\n",
       "      <td>0</td>\n",
       "      <td>0</td>\n",
       "      <td>0</td>\n",
       "      <td>0</td>\n",
       "      <td>0</td>\n",
       "      <td>0</td>\n",
       "      <td>0</td>\n",
       "      <td>0</td>\n",
       "    </tr>\n",
       "  </tbody>\n",
       "</table>\n",
       "</div>"
      ],
      "text/plain": [
       "             age  previous_year_rating  length_of_service  KPIs_met >80%  \\\n",
       "employee_id                                                                \n",
       "59283         25                   3.0                  1              0   \n",
       "37987         35                   1.0                  9              0   \n",
       "48952         39                   4.0                  9              0   \n",
       "15864         26                   3.0                  3              0   \n",
       "41474         25                   3.0                  1              1   \n",
       "\n",
       "             awards_won?  avg_training_score  department_Finance  \\\n",
       "employee_id                                                        \n",
       "59283                  1                  50                   0   \n",
       "37987                  0                  55                   0   \n",
       "48952                  0                  80                   0   \n",
       "15864                  0                  47                   0   \n",
       "41474                  0                  62                   0   \n",
       "\n",
       "             department_HR  department_Legal  department_Operations  \\\n",
       "employee_id                                                           \n",
       "59283                    0                 0                      0   \n",
       "37987                    0                 0                      1   \n",
       "48952                    0                 0                      0   \n",
       "15864                    1                 0                      0   \n",
       "41474                    0                 0                      1   \n",
       "\n",
       "             department_Procurement  department_R&D  \\\n",
       "employee_id                                           \n",
       "59283                             0               0   \n",
       "37987                             0               0   \n",
       "48952                             0               0   \n",
       "15864                             0               0   \n",
       "41474                             0               0   \n",
       "\n",
       "             department_Sales & Marketing  department_Technology  \\\n",
       "employee_id                                                        \n",
       "59283                                   1                      0   \n",
       "37987                                   0                      0   \n",
       "48952                                   0                      1   \n",
       "15864                                   0                      0   \n",
       "41474                                   0                      0   \n",
       "\n",
       "             education_Below Secondary  education_Master's & above  gender_m  \\\n",
       "employee_id                                                                    \n",
       "59283                                0                           0         1   \n",
       "37987                                0                           0         0   \n",
       "48952                                0                           1         0   \n",
       "15864                                0                           0         0   \n",
       "41474                                0                           0         0   \n",
       "\n",
       "             recruitment_channel_referred  recruitment_channel_sourcing  \\\n",
       "employee_id                                                               \n",
       "59283                                   0                             0   \n",
       "37987                                   0                             0   \n",
       "48952                                   0                             1   \n",
       "15864                                   0                             0   \n",
       "41474                                   0                             0   \n",
       "\n",
       "             no_of_trainings_2  no_of_trainings_3  no_of_trainings_4  \\\n",
       "employee_id                                                            \n",
       "59283                        0                  0                  0   \n",
       "37987                        1                  0                  0   \n",
       "48952                        0                  0                  0   \n",
       "15864                        0                  0                  0   \n",
       "41474                        0                  0                  0   \n",
       "\n",
       "             no_of_trainings_more_trainings  \n",
       "employee_id                                  \n",
       "59283                                     0  \n",
       "37987                                     0  \n",
       "48952                                     0  \n",
       "15864                                     0  \n",
       "41474                                     0  "
      ]
     },
     "execution_count": 146,
     "metadata": {},
     "output_type": "execute_result"
    }
   ],
   "source": [
    "## Here we will change the no_of_trainings column to be one hot-encoded as other discrete columns has numerical features\n",
    "X_train = pd.get_dummies(X_train,columns=['no_of_trainings'],drop_first=True)\n",
    "X_train.head()"
   ]
  },
  {
   "cell_type": "code",
   "execution_count": 147,
   "metadata": {},
   "outputs": [],
   "source": [
    "X_val = pd.get_dummies(X_val,columns=['no_of_trainings'],drop_first=True)"
   ]
  },
  {
   "cell_type": "markdown",
   "metadata": {},
   "source": [
    "- ✅ <span style='color:slateblue'> **Removing Region column** </span>\n",
    "- ✅ <span style='color:slateblue'> **Handling missing values** </span>\n",
    "- ✅ <span style='color:slateblue'> **Changing the no_of_trainings column** </span>\n",
    "- ✅ <span style='color:slateblue'> **Handling the categorical columns** </span>\n",
    "- ✅ <span style='color:slateblue'> **Handling the discrete_numerical columns** </span>\n",
    "- [ ] <span style='color:slateblue'> **BoxCox Transformation of continuous columns to reduce skewness** </span>\n",
    "- [ ] <span style='color:slateblue'> **Handling in imbalanced data.** </span>"
   ]
  },
  {
   "cell_type": "code",
   "execution_count": 148,
   "metadata": {},
   "outputs": [
    {
     "data": {
      "text/plain": [
       "['age', 'length_of_service', 'avg_training_score']"
      ]
     },
     "execution_count": 148,
     "metadata": {},
     "output_type": "execute_result"
    }
   ],
   "source": [
    "continuous_cols"
   ]
  },
  {
   "cell_type": "code",
   "execution_count": 149,
   "metadata": {},
   "outputs": [
    {
     "data": {
      "text/html": [
       "<div>\n",
       "<style scoped>\n",
       "    .dataframe tbody tr th:only-of-type {\n",
       "        vertical-align: middle;\n",
       "    }\n",
       "\n",
       "    .dataframe tbody tr th {\n",
       "        vertical-align: top;\n",
       "    }\n",
       "\n",
       "    .dataframe thead th {\n",
       "        text-align: right;\n",
       "    }\n",
       "</style>\n",
       "<table border=\"1\" class=\"dataframe\">\n",
       "  <thead>\n",
       "    <tr style=\"text-align: right;\">\n",
       "      <th></th>\n",
       "      <th>age</th>\n",
       "      <th>previous_year_rating</th>\n",
       "      <th>length_of_service</th>\n",
       "      <th>KPIs_met &gt;80%</th>\n",
       "      <th>awards_won?</th>\n",
       "      <th>avg_training_score</th>\n",
       "      <th>department_Finance</th>\n",
       "      <th>department_HR</th>\n",
       "      <th>department_Legal</th>\n",
       "      <th>department_Operations</th>\n",
       "      <th>department_Procurement</th>\n",
       "      <th>department_R&amp;D</th>\n",
       "      <th>department_Sales &amp; Marketing</th>\n",
       "      <th>department_Technology</th>\n",
       "      <th>education_Below Secondary</th>\n",
       "      <th>education_Master's &amp; above</th>\n",
       "      <th>gender_m</th>\n",
       "      <th>recruitment_channel_referred</th>\n",
       "      <th>recruitment_channel_sourcing</th>\n",
       "      <th>no_of_trainings_2</th>\n",
       "      <th>no_of_trainings_3</th>\n",
       "      <th>no_of_trainings_4</th>\n",
       "      <th>no_of_trainings_more_trainings</th>\n",
       "    </tr>\n",
       "    <tr>\n",
       "      <th>employee_id</th>\n",
       "      <th></th>\n",
       "      <th></th>\n",
       "      <th></th>\n",
       "      <th></th>\n",
       "      <th></th>\n",
       "      <th></th>\n",
       "      <th></th>\n",
       "      <th></th>\n",
       "      <th></th>\n",
       "      <th></th>\n",
       "      <th></th>\n",
       "      <th></th>\n",
       "      <th></th>\n",
       "      <th></th>\n",
       "      <th></th>\n",
       "      <th></th>\n",
       "      <th></th>\n",
       "      <th></th>\n",
       "      <th></th>\n",
       "      <th></th>\n",
       "      <th></th>\n",
       "      <th></th>\n",
       "      <th></th>\n",
       "    </tr>\n",
       "  </thead>\n",
       "  <tbody>\n",
       "    <tr>\n",
       "      <th>59283</th>\n",
       "      <td>1.054235</td>\n",
       "      <td>3.0</td>\n",
       "      <td>0.000000</td>\n",
       "      <td>0</td>\n",
       "      <td>1</td>\n",
       "      <td>1.354674</td>\n",
       "      <td>0</td>\n",
       "      <td>0</td>\n",
       "      <td>0</td>\n",
       "      <td>0</td>\n",
       "      <td>0</td>\n",
       "      <td>0</td>\n",
       "      <td>1</td>\n",
       "      <td>0</td>\n",
       "      <td>0</td>\n",
       "      <td>0</td>\n",
       "      <td>1</td>\n",
       "      <td>0</td>\n",
       "      <td>0</td>\n",
       "      <td>0</td>\n",
       "      <td>0</td>\n",
       "      <td>0</td>\n",
       "      <td>0</td>\n",
       "    </tr>\n",
       "    <tr>\n",
       "      <th>37987</th>\n",
       "      <td>1.070506</td>\n",
       "      <td>1.0</td>\n",
       "      <td>2.604660</td>\n",
       "      <td>0</td>\n",
       "      <td>0</td>\n",
       "      <td>1.360923</td>\n",
       "      <td>0</td>\n",
       "      <td>0</td>\n",
       "      <td>0</td>\n",
       "      <td>1</td>\n",
       "      <td>0</td>\n",
       "      <td>0</td>\n",
       "      <td>0</td>\n",
       "      <td>0</td>\n",
       "      <td>0</td>\n",
       "      <td>0</td>\n",
       "      <td>0</td>\n",
       "      <td>0</td>\n",
       "      <td>0</td>\n",
       "      <td>1</td>\n",
       "      <td>0</td>\n",
       "      <td>0</td>\n",
       "      <td>0</td>\n",
       "    </tr>\n",
       "    <tr>\n",
       "      <th>48952</th>\n",
       "      <td>1.074780</td>\n",
       "      <td>4.0</td>\n",
       "      <td>2.604660</td>\n",
       "      <td>0</td>\n",
       "      <td>0</td>\n",
       "      <td>1.381873</td>\n",
       "      <td>0</td>\n",
       "      <td>0</td>\n",
       "      <td>0</td>\n",
       "      <td>0</td>\n",
       "      <td>0</td>\n",
       "      <td>0</td>\n",
       "      <td>0</td>\n",
       "      <td>1</td>\n",
       "      <td>0</td>\n",
       "      <td>1</td>\n",
       "      <td>0</td>\n",
       "      <td>0</td>\n",
       "      <td>1</td>\n",
       "      <td>0</td>\n",
       "      <td>0</td>\n",
       "      <td>0</td>\n",
       "      <td>0</td>\n",
       "    </tr>\n",
       "    <tr>\n",
       "      <th>15864</th>\n",
       "      <td>1.056393</td>\n",
       "      <td>3.0</td>\n",
       "      <td>1.194779</td>\n",
       "      <td>0</td>\n",
       "      <td>0</td>\n",
       "      <td>1.350393</td>\n",
       "      <td>0</td>\n",
       "      <td>1</td>\n",
       "      <td>0</td>\n",
       "      <td>0</td>\n",
       "      <td>0</td>\n",
       "      <td>0</td>\n",
       "      <td>0</td>\n",
       "      <td>0</td>\n",
       "      <td>0</td>\n",
       "      <td>0</td>\n",
       "      <td>0</td>\n",
       "      <td>0</td>\n",
       "      <td>0</td>\n",
       "      <td>0</td>\n",
       "      <td>0</td>\n",
       "      <td>0</td>\n",
       "      <td>0</td>\n",
       "    </tr>\n",
       "    <tr>\n",
       "      <th>41474</th>\n",
       "      <td>1.054235</td>\n",
       "      <td>3.0</td>\n",
       "      <td>0.000000</td>\n",
       "      <td>1</td>\n",
       "      <td>0</td>\n",
       "      <td>1.368217</td>\n",
       "      <td>0</td>\n",
       "      <td>0</td>\n",
       "      <td>0</td>\n",
       "      <td>1</td>\n",
       "      <td>0</td>\n",
       "      <td>0</td>\n",
       "      <td>0</td>\n",
       "      <td>0</td>\n",
       "      <td>0</td>\n",
       "      <td>0</td>\n",
       "      <td>0</td>\n",
       "      <td>0</td>\n",
       "      <td>0</td>\n",
       "      <td>0</td>\n",
       "      <td>0</td>\n",
       "      <td>0</td>\n",
       "      <td>0</td>\n",
       "    </tr>\n",
       "  </tbody>\n",
       "</table>\n",
       "</div>"
      ],
      "text/plain": [
       "                  age  previous_year_rating  length_of_service  KPIs_met >80%  \\\n",
       "employee_id                                                                     \n",
       "59283        1.054235                   3.0           0.000000              0   \n",
       "37987        1.070506                   1.0           2.604660              0   \n",
       "48952        1.074780                   4.0           2.604660              0   \n",
       "15864        1.056393                   3.0           1.194779              0   \n",
       "41474        1.054235                   3.0           0.000000              1   \n",
       "\n",
       "             awards_won?  avg_training_score  department_Finance  \\\n",
       "employee_id                                                        \n",
       "59283                  1            1.354674                   0   \n",
       "37987                  0            1.360923                   0   \n",
       "48952                  0            1.381873                   0   \n",
       "15864                  0            1.350393                   0   \n",
       "41474                  0            1.368217                   0   \n",
       "\n",
       "             department_HR  department_Legal  department_Operations  \\\n",
       "employee_id                                                           \n",
       "59283                    0                 0                      0   \n",
       "37987                    0                 0                      1   \n",
       "48952                    0                 0                      0   \n",
       "15864                    1                 0                      0   \n",
       "41474                    0                 0                      1   \n",
       "\n",
       "             department_Procurement  department_R&D  \\\n",
       "employee_id                                           \n",
       "59283                             0               0   \n",
       "37987                             0               0   \n",
       "48952                             0               0   \n",
       "15864                             0               0   \n",
       "41474                             0               0   \n",
       "\n",
       "             department_Sales & Marketing  department_Technology  \\\n",
       "employee_id                                                        \n",
       "59283                                   1                      0   \n",
       "37987                                   0                      0   \n",
       "48952                                   0                      1   \n",
       "15864                                   0                      0   \n",
       "41474                                   0                      0   \n",
       "\n",
       "             education_Below Secondary  education_Master's & above  gender_m  \\\n",
       "employee_id                                                                    \n",
       "59283                                0                           0         1   \n",
       "37987                                0                           0         0   \n",
       "48952                                0                           1         0   \n",
       "15864                                0                           0         0   \n",
       "41474                                0                           0         0   \n",
       "\n",
       "             recruitment_channel_referred  recruitment_channel_sourcing  \\\n",
       "employee_id                                                               \n",
       "59283                                   0                             0   \n",
       "37987                                   0                             0   \n",
       "48952                                   0                             1   \n",
       "15864                                   0                             0   \n",
       "41474                                   0                             0   \n",
       "\n",
       "             no_of_trainings_2  no_of_trainings_3  no_of_trainings_4  \\\n",
       "employee_id                                                            \n",
       "59283                        0                  0                  0   \n",
       "37987                        1                  0                  0   \n",
       "48952                        0                  0                  0   \n",
       "15864                        0                  0                  0   \n",
       "41474                        0                  0                  0   \n",
       "\n",
       "             no_of_trainings_more_trainings  \n",
       "employee_id                                  \n",
       "59283                                     0  \n",
       "37987                                     0  \n",
       "48952                                     0  \n",
       "15864                                     0  \n",
       "41474                                     0  "
      ]
     },
     "execution_count": 149,
     "metadata": {},
     "output_type": "execute_result"
    }
   ],
   "source": [
    "X_train['age'],lambda_age = stats.boxcox(X_train['age'])\n",
    "X_train['length_of_service'],lambda_los = stats.boxcox(X_train['length_of_service'])\n",
    "X_train['avg_training_score'],lambda_ats = stats.boxcox(X_train['avg_training_score'])\n",
    "X_train.head()"
   ]
  },
  {
   "cell_type": "markdown",
   "metadata": {},
   "source": [
    "## We need these lamda value to transform our validation and test data and also the data that will come in model deployment"
   ]
  },
  {
   "cell_type": "code",
   "execution_count": 150,
   "metadata": {},
   "outputs": [
    {
     "data": {
      "text/plain": [
       "(-0.8954292589741352, 0.15068452050094655, -0.6881862165452892)"
      ]
     },
     "execution_count": 150,
     "metadata": {},
     "output_type": "execute_result"
    }
   ],
   "source": [
    "lambda_age,lambda_los,lambda_ats"
   ]
  },
  {
   "cell_type": "code",
   "execution_count": 151,
   "metadata": {},
   "outputs": [],
   "source": [
    "lambda_dict = {'age':lambda_age,'length_of_service':lambda_los,'avg_training_score':lambda_ats}"
   ]
  },
  {
   "cell_type": "code",
   "execution_count": 152,
   "metadata": {},
   "outputs": [],
   "source": [
    "import pickle\n",
    "pickle.dump(lambda_dict,open('lamda_values.pkl','wb'),protocol=pickle.HIGHEST_PROTOCOL)"
   ]
  },
  {
   "cell_type": "markdown",
   "metadata": {},
   "source": [
    "## <span style='color:green'>BoxCox Transformation Formula\n",
    "![BoxCox Transformation Formula](boxcox.png)"
   ]
  },
  {
   "cell_type": "code",
   "execution_count": 153,
   "metadata": {},
   "outputs": [
    {
     "data": {
      "text/html": [
       "<div>\n",
       "<style scoped>\n",
       "    .dataframe tbody tr th:only-of-type {\n",
       "        vertical-align: middle;\n",
       "    }\n",
       "\n",
       "    .dataframe tbody tr th {\n",
       "        vertical-align: top;\n",
       "    }\n",
       "\n",
       "    .dataframe thead th {\n",
       "        text-align: right;\n",
       "    }\n",
       "</style>\n",
       "<table border=\"1\" class=\"dataframe\">\n",
       "  <thead>\n",
       "    <tr style=\"text-align: right;\">\n",
       "      <th></th>\n",
       "      <th>age</th>\n",
       "      <th>previous_year_rating</th>\n",
       "      <th>length_of_service</th>\n",
       "      <th>KPIs_met &gt;80%</th>\n",
       "      <th>awards_won?</th>\n",
       "      <th>avg_training_score</th>\n",
       "      <th>department_Finance</th>\n",
       "      <th>department_HR</th>\n",
       "      <th>department_Legal</th>\n",
       "      <th>department_Operations</th>\n",
       "      <th>department_Procurement</th>\n",
       "      <th>department_R&amp;D</th>\n",
       "      <th>department_Sales &amp; Marketing</th>\n",
       "      <th>department_Technology</th>\n",
       "      <th>education_Below Secondary</th>\n",
       "      <th>education_Master's &amp; above</th>\n",
       "      <th>gender_m</th>\n",
       "      <th>recruitment_channel_referred</th>\n",
       "      <th>recruitment_channel_sourcing</th>\n",
       "      <th>no_of_trainings_2</th>\n",
       "      <th>no_of_trainings_3</th>\n",
       "      <th>no_of_trainings_4</th>\n",
       "      <th>no_of_trainings_more_trainings</th>\n",
       "    </tr>\n",
       "    <tr>\n",
       "      <th>employee_id</th>\n",
       "      <th></th>\n",
       "      <th></th>\n",
       "      <th></th>\n",
       "      <th></th>\n",
       "      <th></th>\n",
       "      <th></th>\n",
       "      <th></th>\n",
       "      <th></th>\n",
       "      <th></th>\n",
       "      <th></th>\n",
       "      <th></th>\n",
       "      <th></th>\n",
       "      <th></th>\n",
       "      <th></th>\n",
       "      <th></th>\n",
       "      <th></th>\n",
       "      <th></th>\n",
       "      <th></th>\n",
       "      <th></th>\n",
       "      <th></th>\n",
       "      <th></th>\n",
       "      <th></th>\n",
       "      <th></th>\n",
       "    </tr>\n",
       "  </thead>\n",
       "  <tbody>\n",
       "    <tr>\n",
       "      <th>5599</th>\n",
       "      <td>1.070506</td>\n",
       "      <td>5.0</td>\n",
       "      <td>2.752543</td>\n",
       "      <td>0</td>\n",
       "      <td>0</td>\n",
       "      <td>1.350393</td>\n",
       "      <td>0</td>\n",
       "      <td>1</td>\n",
       "      <td>0</td>\n",
       "      <td>0</td>\n",
       "      <td>0</td>\n",
       "      <td>0</td>\n",
       "      <td>0</td>\n",
       "      <td>0</td>\n",
       "      <td>0</td>\n",
       "      <td>0</td>\n",
       "      <td>1</td>\n",
       "      <td>0</td>\n",
       "      <td>0</td>\n",
       "      <td>0</td>\n",
       "      <td>0</td>\n",
       "      <td>0</td>\n",
       "      <td>0</td>\n",
       "    </tr>\n",
       "    <tr>\n",
       "      <th>73176</th>\n",
       "      <td>1.068002</td>\n",
       "      <td>1.0</td>\n",
       "      <td>1.541719</td>\n",
       "      <td>0</td>\n",
       "      <td>0</td>\n",
       "      <td>1.356007</td>\n",
       "      <td>0</td>\n",
       "      <td>0</td>\n",
       "      <td>0</td>\n",
       "      <td>0</td>\n",
       "      <td>0</td>\n",
       "      <td>0</td>\n",
       "      <td>1</td>\n",
       "      <td>0</td>\n",
       "      <td>0</td>\n",
       "      <td>0</td>\n",
       "      <td>1</td>\n",
       "      <td>0</td>\n",
       "      <td>0</td>\n",
       "      <td>0</td>\n",
       "      <td>1</td>\n",
       "      <td>0</td>\n",
       "      <td>0</td>\n",
       "    </tr>\n",
       "    <tr>\n",
       "      <th>13157</th>\n",
       "      <td>1.073791</td>\n",
       "      <td>3.0</td>\n",
       "      <td>2.888358</td>\n",
       "      <td>0</td>\n",
       "      <td>0</td>\n",
       "      <td>1.370052</td>\n",
       "      <td>1</td>\n",
       "      <td>0</td>\n",
       "      <td>0</td>\n",
       "      <td>0</td>\n",
       "      <td>0</td>\n",
       "      <td>0</td>\n",
       "      <td>0</td>\n",
       "      <td>0</td>\n",
       "      <td>0</td>\n",
       "      <td>0</td>\n",
       "      <td>1</td>\n",
       "      <td>0</td>\n",
       "      <td>0</td>\n",
       "      <td>1</td>\n",
       "      <td>0</td>\n",
       "      <td>0</td>\n",
       "      <td>0</td>\n",
       "    </tr>\n",
       "    <tr>\n",
       "      <th>7458</th>\n",
       "      <td>1.068002</td>\n",
       "      <td>1.0</td>\n",
       "      <td>2.442096</td>\n",
       "      <td>0</td>\n",
       "      <td>0</td>\n",
       "      <td>1.362059</td>\n",
       "      <td>0</td>\n",
       "      <td>0</td>\n",
       "      <td>0</td>\n",
       "      <td>1</td>\n",
       "      <td>0</td>\n",
       "      <td>0</td>\n",
       "      <td>0</td>\n",
       "      <td>0</td>\n",
       "      <td>0</td>\n",
       "      <td>0</td>\n",
       "      <td>0</td>\n",
       "      <td>0</td>\n",
       "      <td>0</td>\n",
       "      <td>0</td>\n",
       "      <td>0</td>\n",
       "      <td>0</td>\n",
       "      <td>0</td>\n",
       "    </tr>\n",
       "    <tr>\n",
       "      <th>28446</th>\n",
       "      <td>1.072752</td>\n",
       "      <td>1.0</td>\n",
       "      <td>1.541719</td>\n",
       "      <td>0</td>\n",
       "      <td>0</td>\n",
       "      <td>1.381873</td>\n",
       "      <td>0</td>\n",
       "      <td>0</td>\n",
       "      <td>0</td>\n",
       "      <td>0</td>\n",
       "      <td>0</td>\n",
       "      <td>0</td>\n",
       "      <td>0</td>\n",
       "      <td>1</td>\n",
       "      <td>0</td>\n",
       "      <td>0</td>\n",
       "      <td>0</td>\n",
       "      <td>0</td>\n",
       "      <td>0</td>\n",
       "      <td>0</td>\n",
       "      <td>0</td>\n",
       "      <td>0</td>\n",
       "      <td>0</td>\n",
       "    </tr>\n",
       "  </tbody>\n",
       "</table>\n",
       "</div>"
      ],
      "text/plain": [
       "                  age  previous_year_rating  length_of_service  KPIs_met >80%  \\\n",
       "employee_id                                                                     \n",
       "5599         1.070506                   5.0           2.752543              0   \n",
       "73176        1.068002                   1.0           1.541719              0   \n",
       "13157        1.073791                   3.0           2.888358              0   \n",
       "7458         1.068002                   1.0           2.442096              0   \n",
       "28446        1.072752                   1.0           1.541719              0   \n",
       "\n",
       "             awards_won?  avg_training_score  department_Finance  \\\n",
       "employee_id                                                        \n",
       "5599                   0            1.350393                   0   \n",
       "73176                  0            1.356007                   0   \n",
       "13157                  0            1.370052                   1   \n",
       "7458                   0            1.362059                   0   \n",
       "28446                  0            1.381873                   0   \n",
       "\n",
       "             department_HR  department_Legal  department_Operations  \\\n",
       "employee_id                                                           \n",
       "5599                     1                 0                      0   \n",
       "73176                    0                 0                      0   \n",
       "13157                    0                 0                      0   \n",
       "7458                     0                 0                      1   \n",
       "28446                    0                 0                      0   \n",
       "\n",
       "             department_Procurement  department_R&D  \\\n",
       "employee_id                                           \n",
       "5599                              0               0   \n",
       "73176                             0               0   \n",
       "13157                             0               0   \n",
       "7458                              0               0   \n",
       "28446                             0               0   \n",
       "\n",
       "             department_Sales & Marketing  department_Technology  \\\n",
       "employee_id                                                        \n",
       "5599                                    0                      0   \n",
       "73176                                   1                      0   \n",
       "13157                                   0                      0   \n",
       "7458                                    0                      0   \n",
       "28446                                   0                      1   \n",
       "\n",
       "             education_Below Secondary  education_Master's & above  gender_m  \\\n",
       "employee_id                                                                    \n",
       "5599                                 0                           0         1   \n",
       "73176                                0                           0         1   \n",
       "13157                                0                           0         1   \n",
       "7458                                 0                           0         0   \n",
       "28446                                0                           0         0   \n",
       "\n",
       "             recruitment_channel_referred  recruitment_channel_sourcing  \\\n",
       "employee_id                                                               \n",
       "5599                                    0                             0   \n",
       "73176                                   0                             0   \n",
       "13157                                   0                             0   \n",
       "7458                                    0                             0   \n",
       "28446                                   0                             0   \n",
       "\n",
       "             no_of_trainings_2  no_of_trainings_3  no_of_trainings_4  \\\n",
       "employee_id                                                            \n",
       "5599                         0                  0                  0   \n",
       "73176                        0                  1                  0   \n",
       "13157                        1                  0                  0   \n",
       "7458                         0                  0                  0   \n",
       "28446                        0                  0                  0   \n",
       "\n",
       "             no_of_trainings_more_trainings  \n",
       "employee_id                                  \n",
       "5599                                      0  \n",
       "73176                                     0  \n",
       "13157                                     0  \n",
       "7458                                      0  \n",
       "28446                                     0  "
      ]
     },
     "execution_count": 153,
     "metadata": {},
     "output_type": "execute_result"
    }
   ],
   "source": [
    "## As lambda is non-zero we will apply first formula\n",
    "X_val['age'] = (X_val['age']**lambda_dict['age'] - 1)/lambda_dict['age']\n",
    "X_val['length_of_service'] = (X_val['length_of_service']**lambda_dict['length_of_service'] - 1)/lambda_dict['length_of_service']\n",
    "X_val['avg_training_score'] = (X_val['avg_training_score']**lambda_dict['avg_training_score'] - 1)/lambda_dict['avg_training_score']\n",
    "X_val.head()"
   ]
  },
  {
   "cell_type": "markdown",
   "metadata": {},
   "source": [
    "- ✅ <span style='color:slateblue'> **Removing Region column** </span>\n",
    "- ✅ <span style='color:slateblue'> **Handling missing values** </span>\n",
    "- ✅ <span style='color:slateblue'> **Changing the no_of_trainings column** </span>\n",
    "- ✅ <span style='color:slateblue'> **Handling the categorical columns** </span>\n",
    "- ✅ <span style='color:slateblue'> **Handling the discrete_numerical columns** </span>\n",
    "- ✅ <span style='color:slateblue'> **BoxCox Transformation of continuous columns to reduce skewness** </span>\n",
    "- [ ] <span style='color:slateblue'> **Handling in imbalanced data.** </span>"
   ]
  },
  {
   "cell_type": "code",
   "execution_count": 154,
   "metadata": {},
   "outputs": [],
   "source": [
    "from imblearn.combine import SMOTETomek\n",
    "smk = SMOTETomek(random_state=42)\n",
    "X_train,y_train = smk.fit_resample(X_train,y_train)"
   ]
  },
  {
   "cell_type": "markdown",
   "metadata": {},
   "source": [
    "- ✅ <span style='color:slateblue'> **Removing Region column** </span>\n",
    "- ✅ <span style='color:slateblue'> **Handling missing values** </span>\n",
    "- ✅ <span style='color:slateblue'> **Changing the no_of_trainings column** </span>\n",
    "- ✅ <span style='color:slateblue'> **Handling the categorical columns** </span>\n",
    "- ✅ <span style='color:slateblue'> **Handling the discrete_numerical columns** </span>\n",
    "- ✅ <span style='color:slateblue'> **BoxCox Transformation of continuous columns to reduce skewness** </span>\n",
    "- ✅ <span style='color:slateblue'> **Handling in imbalanced data.** </span>"
   ]
  },
  {
   "cell_type": "code",
   "execution_count": 155,
   "metadata": {},
   "outputs": [],
   "source": [
    "X_train.to_csv('Preprocessed_X_train')\n",
    "y_train.to_csv('Preprocessed_y_train')\n",
    "X_val.to_csv('Preprocessed_X_test')\n",
    "y_val.to_csv('Preprocessed_y_test')"
   ]
  },
  {
   "cell_type": "code",
   "execution_count": 5,
   "metadata": {},
   "outputs": [
    {
     "data": {
      "application/javascript": [
       "\n",
       "        if (window._pyforest_update_imports_cell) { window._pyforest_update_imports_cell('import pandas as pd'); }\n",
       "    "
      ],
      "text/plain": [
       "<IPython.core.display.Javascript object>"
      ]
     },
     "metadata": {},
     "output_type": "display_data"
    },
    {
     "data": {
      "application/javascript": [
       "\n",
       "        if (window._pyforest_update_imports_cell) { window._pyforest_update_imports_cell('import pandas as pd'); }\n",
       "    "
      ],
      "text/plain": [
       "<IPython.core.display.Javascript object>"
      ]
     },
     "metadata": {},
     "output_type": "display_data"
    },
    {
     "data": {
      "text/plain": [
       "((73064, 23), (73064, 1))"
      ]
     },
     "execution_count": 5,
     "metadata": {},
     "output_type": "execute_result"
    }
   ],
   "source": [
    "X_train = pd.read_csv('Preprocessed_X_train',index_col=0,low_memory=False)\n",
    "y_train = pd.read_csv('Preprocessed_y_train',index_col=0,low_memory=False)\n",
    "X_train.shape,y_train.shape"
   ]
  },
  {
   "cell_type": "code",
   "execution_count": 12,
   "metadata": {},
   "outputs": [
    {
     "data": {
      "application/javascript": [
       "\n",
       "        if (window._pyforest_update_imports_cell) { window._pyforest_update_imports_cell('import pandas as pd'); }\n",
       "    "
      ],
      "text/plain": [
       "<IPython.core.display.Javascript object>"
      ]
     },
     "metadata": {},
     "output_type": "display_data"
    },
    {
     "data": {
      "application/javascript": [
       "\n",
       "        if (window._pyforest_update_imports_cell) { window._pyforest_update_imports_cell('import pandas as pd'); }\n",
       "    "
      ],
      "text/plain": [
       "<IPython.core.display.Javascript object>"
      ]
     },
     "metadata": {},
     "output_type": "display_data"
    },
    {
     "data": {
      "text/plain": [
       "((13702, 23), (13702, 1))"
      ]
     },
     "execution_count": 12,
     "metadata": {},
     "output_type": "execute_result"
    }
   ],
   "source": [
    "X_val = pd.read_csv('Preprocessed_X_test',index_col=0,low_memory=False)\n",
    "y_val = pd.read_csv('Preprocessed_y_test',index_col=0,low_memory=False)\n",
    "X_val.shape,y_val.shape"
   ]
  },
  {
   "cell_type": "code",
   "execution_count": 6,
   "metadata": {},
   "outputs": [
    {
     "data": {
      "text/html": [
       "<div>\n",
       "<style scoped>\n",
       "    .dataframe tbody tr th:only-of-type {\n",
       "        vertical-align: middle;\n",
       "    }\n",
       "\n",
       "    .dataframe tbody tr th {\n",
       "        vertical-align: top;\n",
       "    }\n",
       "\n",
       "    .dataframe thead th {\n",
       "        text-align: right;\n",
       "    }\n",
       "</style>\n",
       "<table border=\"1\" class=\"dataframe\">\n",
       "  <thead>\n",
       "    <tr style=\"text-align: right;\">\n",
       "      <th></th>\n",
       "      <th>age</th>\n",
       "      <th>previous_year_rating</th>\n",
       "      <th>length_of_service</th>\n",
       "      <th>KPIs_met &gt;80%</th>\n",
       "      <th>awards_won?</th>\n",
       "      <th>avg_training_score</th>\n",
       "      <th>department_Finance</th>\n",
       "      <th>department_HR</th>\n",
       "      <th>department_Legal</th>\n",
       "      <th>department_Operations</th>\n",
       "      <th>...</th>\n",
       "      <th>department_Technology</th>\n",
       "      <th>education_Below Secondary</th>\n",
       "      <th>education_Master's &amp; above</th>\n",
       "      <th>gender_m</th>\n",
       "      <th>recruitment_channel_referred</th>\n",
       "      <th>recruitment_channel_sourcing</th>\n",
       "      <th>no_of_trainings_2</th>\n",
       "      <th>no_of_trainings_3</th>\n",
       "      <th>no_of_trainings_4</th>\n",
       "      <th>no_of_trainings_more_trainings</th>\n",
       "    </tr>\n",
       "  </thead>\n",
       "  <tbody>\n",
       "    <tr>\n",
       "      <th>0</th>\n",
       "      <td>1.054235</td>\n",
       "      <td>3.0</td>\n",
       "      <td>0.000000</td>\n",
       "      <td>0</td>\n",
       "      <td>1</td>\n",
       "      <td>1.354674</td>\n",
       "      <td>0</td>\n",
       "      <td>0</td>\n",
       "      <td>0</td>\n",
       "      <td>0</td>\n",
       "      <td>...</td>\n",
       "      <td>0</td>\n",
       "      <td>0</td>\n",
       "      <td>0</td>\n",
       "      <td>1</td>\n",
       "      <td>0</td>\n",
       "      <td>0</td>\n",
       "      <td>0</td>\n",
       "      <td>0</td>\n",
       "      <td>0</td>\n",
       "      <td>0</td>\n",
       "    </tr>\n",
       "    <tr>\n",
       "      <th>1</th>\n",
       "      <td>1.070506</td>\n",
       "      <td>1.0</td>\n",
       "      <td>2.604660</td>\n",
       "      <td>0</td>\n",
       "      <td>0</td>\n",
       "      <td>1.360923</td>\n",
       "      <td>0</td>\n",
       "      <td>0</td>\n",
       "      <td>0</td>\n",
       "      <td>1</td>\n",
       "      <td>...</td>\n",
       "      <td>0</td>\n",
       "      <td>0</td>\n",
       "      <td>0</td>\n",
       "      <td>0</td>\n",
       "      <td>0</td>\n",
       "      <td>0</td>\n",
       "      <td>1</td>\n",
       "      <td>0</td>\n",
       "      <td>0</td>\n",
       "      <td>0</td>\n",
       "    </tr>\n",
       "    <tr>\n",
       "      <th>2</th>\n",
       "      <td>1.074780</td>\n",
       "      <td>4.0</td>\n",
       "      <td>2.604660</td>\n",
       "      <td>0</td>\n",
       "      <td>0</td>\n",
       "      <td>1.381873</td>\n",
       "      <td>0</td>\n",
       "      <td>0</td>\n",
       "      <td>0</td>\n",
       "      <td>0</td>\n",
       "      <td>...</td>\n",
       "      <td>1</td>\n",
       "      <td>0</td>\n",
       "      <td>1</td>\n",
       "      <td>0</td>\n",
       "      <td>0</td>\n",
       "      <td>1</td>\n",
       "      <td>0</td>\n",
       "      <td>0</td>\n",
       "      <td>0</td>\n",
       "      <td>0</td>\n",
       "    </tr>\n",
       "    <tr>\n",
       "      <th>3</th>\n",
       "      <td>1.056393</td>\n",
       "      <td>3.0</td>\n",
       "      <td>1.194779</td>\n",
       "      <td>0</td>\n",
       "      <td>0</td>\n",
       "      <td>1.350393</td>\n",
       "      <td>0</td>\n",
       "      <td>1</td>\n",
       "      <td>0</td>\n",
       "      <td>0</td>\n",
       "      <td>...</td>\n",
       "      <td>0</td>\n",
       "      <td>0</td>\n",
       "      <td>0</td>\n",
       "      <td>0</td>\n",
       "      <td>0</td>\n",
       "      <td>0</td>\n",
       "      <td>0</td>\n",
       "      <td>0</td>\n",
       "      <td>0</td>\n",
       "      <td>0</td>\n",
       "    </tr>\n",
       "    <tr>\n",
       "      <th>4</th>\n",
       "      <td>1.054235</td>\n",
       "      <td>3.0</td>\n",
       "      <td>0.000000</td>\n",
       "      <td>1</td>\n",
       "      <td>0</td>\n",
       "      <td>1.368217</td>\n",
       "      <td>0</td>\n",
       "      <td>0</td>\n",
       "      <td>0</td>\n",
       "      <td>1</td>\n",
       "      <td>...</td>\n",
       "      <td>0</td>\n",
       "      <td>0</td>\n",
       "      <td>0</td>\n",
       "      <td>0</td>\n",
       "      <td>0</td>\n",
       "      <td>0</td>\n",
       "      <td>0</td>\n",
       "      <td>0</td>\n",
       "      <td>0</td>\n",
       "      <td>0</td>\n",
       "    </tr>\n",
       "  </tbody>\n",
       "</table>\n",
       "<p>5 rows × 23 columns</p>\n",
       "</div>"
      ],
      "text/plain": [
       "        age  previous_year_rating  length_of_service  KPIs_met >80%  \\\n",
       "0  1.054235                   3.0           0.000000              0   \n",
       "1  1.070506                   1.0           2.604660              0   \n",
       "2  1.074780                   4.0           2.604660              0   \n",
       "3  1.056393                   3.0           1.194779              0   \n",
       "4  1.054235                   3.0           0.000000              1   \n",
       "\n",
       "   awards_won?  avg_training_score  department_Finance  department_HR  \\\n",
       "0            1            1.354674                   0              0   \n",
       "1            0            1.360923                   0              0   \n",
       "2            0            1.381873                   0              0   \n",
       "3            0            1.350393                   0              1   \n",
       "4            0            1.368217                   0              0   \n",
       "\n",
       "   department_Legal  department_Operations  ...  department_Technology  \\\n",
       "0                 0                      0  ...                      0   \n",
       "1                 0                      1  ...                      0   \n",
       "2                 0                      0  ...                      1   \n",
       "3                 0                      0  ...                      0   \n",
       "4                 0                      1  ...                      0   \n",
       "\n",
       "   education_Below Secondary  education_Master's & above  gender_m  \\\n",
       "0                          0                           0         1   \n",
       "1                          0                           0         0   \n",
       "2                          0                           1         0   \n",
       "3                          0                           0         0   \n",
       "4                          0                           0         0   \n",
       "\n",
       "   recruitment_channel_referred  recruitment_channel_sourcing  \\\n",
       "0                             0                             0   \n",
       "1                             0                             0   \n",
       "2                             0                             1   \n",
       "3                             0                             0   \n",
       "4                             0                             0   \n",
       "\n",
       "   no_of_trainings_2  no_of_trainings_3  no_of_trainings_4  \\\n",
       "0                  0                  0                  0   \n",
       "1                  1                  0                  0   \n",
       "2                  0                  0                  0   \n",
       "3                  0                  0                  0   \n",
       "4                  0                  0                  0   \n",
       "\n",
       "   no_of_trainings_more_trainings  \n",
       "0                               0  \n",
       "1                               0  \n",
       "2                               0  \n",
       "3                               0  \n",
       "4                               0  \n",
       "\n",
       "[5 rows x 23 columns]"
      ]
     },
     "execution_count": 6,
     "metadata": {},
     "output_type": "execute_result"
    }
   ],
   "source": [
    "X_train.head()"
   ]
  },
  {
   "cell_type": "code",
   "execution_count": 7,
   "metadata": {},
   "outputs": [
    {
     "data": {
      "text/plain": [
       "is_promoted\n",
       "0              36532\n",
       "1              36532\n",
       "dtype: int64"
      ]
     },
     "execution_count": 7,
     "metadata": {},
     "output_type": "execute_result"
    }
   ],
   "source": [
    "y_train.value_counts()"
   ]
  },
  {
   "cell_type": "markdown",
   "metadata": {},
   "source": [
    "## <span style='color:orange'> As this data is quite huge to reduce training time we will use a sample of data to train the model but fit the complete dataset."
   ]
  },
  {
   "cell_type": "code",
   "execution_count": 8,
   "metadata": {},
   "outputs": [
    {
     "data": {
      "application/javascript": [
       "\n",
       "        if (window._pyforest_update_imports_cell) { window._pyforest_update_imports_cell('import pandas as pd'); }\n",
       "    "
      ],
      "text/plain": [
       "<IPython.core.display.Javascript object>"
      ]
     },
     "metadata": {},
     "output_type": "display_data"
    },
    {
     "data": {
      "text/plain": [
       "(14613, 24)"
      ]
     },
     "execution_count": 8,
     "metadata": {},
     "output_type": "execute_result"
    }
   ],
   "source": [
    "processed_data = pd.concat([X_train,y_train],axis=1).sample(frac=0.2,random_state=42)\n",
    "processed_data.shape"
   ]
  },
  {
   "cell_type": "code",
   "execution_count": 9,
   "metadata": {},
   "outputs": [
    {
     "data": {
      "text/plain": [
       "0    7326\n",
       "1    7287\n",
       "Name: is_promoted, dtype: int64"
      ]
     },
     "execution_count": 9,
     "metadata": {},
     "output_type": "execute_result"
    }
   ],
   "source": [
    "processed_data['is_promoted'].value_counts()"
   ]
  },
  {
   "cell_type": "code",
   "execution_count": 10,
   "metadata": {},
   "outputs": [],
   "source": [
    "X_sample = processed_data.drop('is_promoted',axis=1)\n",
    "y_sample = processed_data['is_promoted']"
   ]
  },
  {
   "cell_type": "markdown",
   "metadata": {},
   "source": [
    "### Balanced Data"
   ]
  },
  {
   "cell_type": "code",
   "execution_count": 14,
   "metadata": {},
   "outputs": [],
   "source": [
    "from sklearn.model_selection import cross_val_score\n",
    "from sklearn.ensemble import RandomForestClassifier,AdaBoostClassifier\n",
    "from xgboost import  XGBClassifier\n",
    "from sklearn.naive_bayes import  GaussianNB\n",
    "from sklearn.tree import  DecisionTreeClassifier\n",
    "from sklearn.neighbors import KNeighborsClassifier\n",
    "from catboost import CatBoostClassifier"
   ]
  },
  {
   "cell_type": "code",
   "execution_count": 164,
   "metadata": {},
   "outputs": [],
   "source": [
    "def modelpicker(models):\n",
    "  summary = {}\n",
    "  for i in models:\n",
    "    f1_score = cross_val_score(i,X_sample,y_sample,scoring='f1',cv=3,n_jobs=-1).mean()\n",
    "    summary[str(i)] = f1_score\n",
    "    print('\\n',str(i),' : ',f1_score)\n",
    "  return summary"
   ]
  },
  {
   "cell_type": "code",
   "execution_count": 165,
   "metadata": {},
   "outputs": [
    {
     "name": "stdout",
     "output_type": "stream",
     "text": [
      "\n",
      " RandomForestClassifier()  :  0.8926886726146036\n",
      "\n",
      " AdaBoostClassifier()  :  0.8077240380891012\n",
      "\n",
      " XGBClassifier(base_score=None, booster=None, colsample_bylevel=None,\n",
      "              colsample_bynode=None, colsample_bytree=None, gamma=None,\n",
      "              gpu_id=None, importance_type='gain', interaction_constraints=None,\n",
      "              learning_rate=None, max_delta_step=None, max_depth=None,\n",
      "              min_child_weight=None, missing=nan, monotone_constraints=None,\n",
      "              n_estimators=100, n_jobs=None, num_parallel_tree=None,\n",
      "              random_state=None, reg_alpha=None, reg_lambda=None,\n",
      "              scale_pos_weight=None, subsample=None, tree_method=None,\n",
      "              validate_parameters=None, verbosity=None)  :  0.9583787018832767\n",
      "\n",
      " DecisionTreeClassifier()  :  0.8902234659657632\n",
      "\n",
      " <catboost.core.CatBoostClassifier object at 0x000002320EAA8A90>  :  0.9570815331507401\n",
      "\n",
      " GaussianNB()  :  0.6753281280974176\n",
      "\n",
      " KNeighborsClassifier()  :  0.7782032219729498\n"
     ]
    }
   ],
   "source": [
    "models = [RandomForestClassifier(),AdaBoostClassifier(),XGBClassifier(),\n",
    "          DecisionTreeClassifier(),CatBoostClassifier(iterations=500),\n",
    "          GaussianNB(),KNeighborsClassifier()]\n",
    "model_acc = modelpicker(models)"
   ]
  },
  {
   "cell_type": "markdown",
   "metadata": {},
   "source": [
    "## <span style='color:purple'> It is pretty clear that XGBClassifier gives the best f1-score ie;<span style='color:red'> 0.9583787018832767 </span>so we will use that and hypertune it using optuna."
   ]
  },
  {
   "cell_type": "code",
   "execution_count": 15,
   "metadata": {},
   "outputs": [],
   "source": [
    "import optuna\n",
    "def objective(trial):\n",
    "    n_estimators = trial.suggest_int('n_estimators',500,1500,100)\n",
    "    learning_rate = trial.suggest_float('learning_rate',0.1,0.9,step=0.1)\n",
    "    max_depth = trial.suggest_int('max_depth',3,20,1)\n",
    "    min_child_weight = trial.suggest_int('min_child_weight',1,13,2)\n",
    "    gamma = trial.suggest_float('gamma',0,0.6,step=0.1)\n",
    "    colsample_bytree = trial.suggest_float('colsample_bytree',0.2,0.9,step=0.2)\n",
    "    clf = XGBClassifier(n_estimators=n_estimators,learning_rate = learning_rate , max_depth = max_depth,\n",
    "                        min_child_weight = min_child_weight , gamma = gamma,\n",
    "                        colsample_bytree = colsample_bytree)\n",
    "    return cross_val_score(clf,X_sample,y_sample,n_jobs=-1,cv = 3,scoring='f1').mean()"
   ]
  },
  {
   "cell_type": "code",
   "execution_count": 16,
   "metadata": {
    "scrolled": true
   },
   "outputs": [
    {
     "name": "stderr",
     "output_type": "stream",
     "text": [
      "\u001b[32m[I 2021-07-22 23:58:00,623]\u001b[0m A new study created in memory with name: no-name-3a9c357b-519f-4967-8d33-8862c972c8f6\u001b[0m\n",
      "\u001b[32m[I 2021-07-22 23:58:22,255]\u001b[0m Trial 0 finished with value: 0.955920883244962 and parameters: {'n_estimators': 1100, 'learning_rate': 0.7000000000000001, 'max_depth': 17, 'min_child_weight': 7, 'gamma': 0.30000000000000004, 'colsample_bytree': 0.4}. Best is trial 0 with value: 0.955920883244962.\u001b[0m\n",
      "\u001b[32m[I 2021-07-22 23:58:43,145]\u001b[0m Trial 1 finished with value: 0.951539687811339 and parameters: {'n_estimators': 1100, 'learning_rate': 0.9, 'max_depth': 11, 'min_child_weight': 11, 'gamma': 0.0, 'colsample_bytree': 0.6000000000000001}. Best is trial 0 with value: 0.955920883244962.\u001b[0m\n",
      "\u001b[32m[I 2021-07-22 23:59:24,290]\u001b[0m Trial 2 finished with value: 0.9565568475910924 and parameters: {'n_estimators': 1400, 'learning_rate': 0.9, 'max_depth': 7, 'min_child_weight': 5, 'gamma': 0.4, 'colsample_bytree': 0.2}. Best is trial 2 with value: 0.9565568475910924.\u001b[0m\n",
      "\u001b[32m[I 2021-07-22 23:59:49,929]\u001b[0m Trial 3 finished with value: 0.9540000964636154 and parameters: {'n_estimators': 900, 'learning_rate': 0.7000000000000001, 'max_depth': 20, 'min_child_weight': 9, 'gamma': 0.0, 'colsample_bytree': 0.4}. Best is trial 2 with value: 0.9565568475910924.\u001b[0m\n",
      "\u001b[32m[I 2021-07-23 00:00:05,395]\u001b[0m Trial 4 finished with value: 0.9588412824115645 and parameters: {'n_estimators': 600, 'learning_rate': 0.1, 'max_depth': 19, 'min_child_weight': 13, 'gamma': 0.5, 'colsample_bytree': 0.2}. Best is trial 4 with value: 0.9588412824115645.\u001b[0m\n",
      "\u001b[32m[I 2021-07-23 00:00:42,518]\u001b[0m Trial 5 finished with value: 0.9522599183455176 and parameters: {'n_estimators': 1400, 'learning_rate': 0.7000000000000001, 'max_depth': 9, 'min_child_weight': 3, 'gamma': 0.5, 'colsample_bytree': 0.8}. Best is trial 4 with value: 0.9588412824115645.\u001b[0m\n",
      "\u001b[32m[I 2021-07-23 00:01:05,130]\u001b[0m Trial 6 finished with value: 0.9563362497472806 and parameters: {'n_estimators': 1200, 'learning_rate': 0.5, 'max_depth': 5, 'min_child_weight': 9, 'gamma': 0.30000000000000004, 'colsample_bytree': 0.6000000000000001}. Best is trial 4 with value: 0.9588412824115645.\u001b[0m\n",
      "\u001b[32m[I 2021-07-23 00:01:19,992]\u001b[0m Trial 7 finished with value: 0.9621308874898257 and parameters: {'n_estimators': 1000, 'learning_rate': 0.1, 'max_depth': 4, 'min_child_weight': 1, 'gamma': 0.0, 'colsample_bytree': 0.6000000000000001}. Best is trial 7 with value: 0.9621308874898257.\u001b[0m\n",
      "\u001b[32m[I 2021-07-23 00:01:26,890]\u001b[0m Trial 8 finished with value: 0.9583422392192795 and parameters: {'n_estimators': 600, 'learning_rate': 0.1, 'max_depth': 5, 'min_child_weight': 1, 'gamma': 0.0, 'colsample_bytree': 0.2}. Best is trial 7 with value: 0.9621308874898257.\u001b[0m\n",
      "\u001b[32m[I 2021-07-23 00:01:36,062]\u001b[0m Trial 9 finished with value: 0.9564702352384047 and parameters: {'n_estimators': 500, 'learning_rate': 0.6, 'max_depth': 14, 'min_child_weight': 11, 'gamma': 0.30000000000000004, 'colsample_bytree': 0.4}. Best is trial 7 with value: 0.9621308874898257.\u001b[0m\n",
      "\u001b[32m[I 2021-07-23 00:01:44,177]\u001b[0m Trial 10 finished with value: 0.9612136028577537 and parameters: {'n_estimators': 800, 'learning_rate': 0.30000000000000004, 'max_depth': 3, 'min_child_weight': 1, 'gamma': 0.1, 'colsample_bytree': 0.8}. Best is trial 7 with value: 0.9621308874898257.\u001b[0m\n",
      "\u001b[32m[I 2021-07-23 00:01:52,454]\u001b[0m Trial 11 finished with value: 0.9612136028577537 and parameters: {'n_estimators': 800, 'learning_rate': 0.30000000000000004, 'max_depth': 3, 'min_child_weight': 1, 'gamma': 0.1, 'colsample_bytree': 0.8}. Best is trial 7 with value: 0.9621308874898257.\u001b[0m\n",
      "\u001b[32m[I 2021-07-23 00:02:01,966]\u001b[0m Trial 12 finished with value: 0.9576560417668064 and parameters: {'n_estimators': 800, 'learning_rate': 0.30000000000000004, 'max_depth': 4, 'min_child_weight': 3, 'gamma': 0.1, 'colsample_bytree': 0.8}. Best is trial 7 with value: 0.9621308874898257.\u001b[0m\n",
      "\u001b[32m[I 2021-07-23 00:02:18,104]\u001b[0m Trial 13 finished with value: 0.9557537369079805 and parameters: {'n_estimators': 900, 'learning_rate': 0.30000000000000004, 'max_depth': 8, 'min_child_weight': 1, 'gamma': 0.1, 'colsample_bytree': 0.6000000000000001}. Best is trial 7 with value: 0.9621308874898257.\u001b[0m\n",
      "\u001b[32m[I 2021-07-23 00:02:23,459]\u001b[0m Trial 14 finished with value: 0.9607801724689594 and parameters: {'n_estimators': 700, 'learning_rate': 0.2, 'max_depth': 3, 'min_child_weight': 3, 'gamma': 0.2, 'colsample_bytree': 0.8}. Best is trial 7 with value: 0.9621308874898257.\u001b[0m\n",
      "\u001b[32m[I 2021-07-23 00:02:36,610]\u001b[0m Trial 15 finished with value: 0.9559526897161317 and parameters: {'n_estimators': 1000, 'learning_rate': 0.4, 'max_depth': 6, 'min_child_weight': 5, 'gamma': 0.2, 'colsample_bytree': 0.6000000000000001}. Best is trial 7 with value: 0.9621308874898257.\u001b[0m\n",
      "\u001b[32m[I 2021-07-23 00:03:06,648]\u001b[0m Trial 16 finished with value: 0.9576032583607562 and parameters: {'n_estimators': 1200, 'learning_rate': 0.2, 'max_depth': 11, 'min_child_weight': 1, 'gamma': 0.2, 'colsample_bytree': 0.6000000000000001}. Best is trial 7 with value: 0.9621308874898257.\u001b[0m\n",
      "\u001b[32m[I 2021-07-23 00:03:13,708]\u001b[0m Trial 17 finished with value: 0.9577629316204352 and parameters: {'n_estimators': 900, 'learning_rate': 0.1, 'max_depth': 3, 'min_child_weight': 5, 'gamma': 0.0, 'colsample_bytree': 0.8}. Best is trial 7 with value: 0.9621308874898257.\u001b[0m\n",
      "\u001b[32m[I 2021-07-23 00:03:27,941]\u001b[0m Trial 18 finished with value: 0.9532535748610728 and parameters: {'n_estimators': 700, 'learning_rate': 0.4, 'max_depth': 14, 'min_child_weight': 3, 'gamma': 0.1, 'colsample_bytree': 0.6000000000000001}. Best is trial 7 with value: 0.9621308874898257.\u001b[0m\n",
      "\u001b[32m[I 2021-07-23 00:03:51,053]\u001b[0m Trial 19 finished with value: 0.9575697257026357 and parameters: {'n_estimators': 1200, 'learning_rate': 0.2, 'max_depth': 9, 'min_child_weight': 1, 'gamma': 0.6, 'colsample_bytree': 0.8}. Best is trial 7 with value: 0.9621308874898257.\u001b[0m\n",
      "\u001b[32m[I 2021-07-23 00:04:01,208]\u001b[0m Trial 20 finished with value: 0.9571824925025686 and parameters: {'n_estimators': 1000, 'learning_rate': 0.4, 'max_depth': 6, 'min_child_weight': 7, 'gamma': 0.2, 'colsample_bytree': 0.4}. Best is trial 7 with value: 0.9621308874898257.\u001b[0m\n",
      "\u001b[32m[I 2021-07-23 00:04:08,255]\u001b[0m Trial 21 finished with value: 0.9612136028577537 and parameters: {'n_estimators': 800, 'learning_rate': 0.30000000000000004, 'max_depth': 3, 'min_child_weight': 1, 'gamma': 0.1, 'colsample_bytree': 0.8}. Best is trial 7 with value: 0.9621308874898257.\u001b[0m\n",
      "\u001b[32m[I 2021-07-23 00:04:14,707]\u001b[0m Trial 22 finished with value: 0.9607481766920843 and parameters: {'n_estimators': 800, 'learning_rate': 0.2, 'max_depth': 3, 'min_child_weight': 3, 'gamma': 0.1, 'colsample_bytree': 0.8}. Best is trial 7 with value: 0.9621308874898257.\u001b[0m\n",
      "\u001b[32m[I 2021-07-23 00:04:23,379]\u001b[0m Trial 23 finished with value: 0.9520946783684209 and parameters: {'n_estimators': 700, 'learning_rate': 0.5, 'max_depth': 5, 'min_child_weight': 1, 'gamma': 0.0, 'colsample_bytree': 0.8}. Best is trial 7 with value: 0.9621308874898257.\u001b[0m\n",
      "\u001b[32m[I 2021-07-23 00:04:26,928]\u001b[0m Trial 24 finished with value: 0.960952228511685 and parameters: {'n_estimators': 500, 'learning_rate': 0.30000000000000004, 'max_depth': 3, 'min_child_weight': 3, 'gamma': 0.1, 'colsample_bytree': 0.6000000000000001}. Best is trial 7 with value: 0.9621308874898257.\u001b[0m\n",
      "\u001b[32m[I 2021-07-23 00:04:38,555]\u001b[0m Trial 25 finished with value: 0.9596473787104792 and parameters: {'n_estimators': 900, 'learning_rate': 0.1, 'max_depth': 4, 'min_child_weight': 5, 'gamma': 0.0, 'colsample_bytree': 0.8}. Best is trial 7 with value: 0.9621308874898257.\u001b[0m\n",
      "\u001b[32m[I 2021-07-23 00:04:59,586]\u001b[0m Trial 26 finished with value: 0.9566872503651375 and parameters: {'n_estimators': 1100, 'learning_rate': 0.4, 'max_depth': 7, 'min_child_weight': 1, 'gamma': 0.2, 'colsample_bytree': 0.6000000000000001}. Best is trial 7 with value: 0.9621308874898257.\u001b[0m\n",
      "\u001b[32m[I 2021-07-23 00:05:08,286]\u001b[0m Trial 27 finished with value: 0.9589855708432534 and parameters: {'n_estimators': 800, 'learning_rate': 0.2, 'max_depth': 4, 'min_child_weight': 3, 'gamma': 0.1, 'colsample_bytree': 0.8}. Best is trial 7 with value: 0.9621308874898257.\u001b[0m\n"
     ]
    },
    {
     "name": "stderr",
     "output_type": "stream",
     "text": [
      "\u001b[32m[I 2021-07-23 00:05:19,676]\u001b[0m Trial 28 finished with value: 0.9546237269601532 and parameters: {'n_estimators': 600, 'learning_rate': 0.30000000000000004, 'max_depth': 9, 'min_child_weight': 1, 'gamma': 0.0, 'colsample_bytree': 0.6000000000000001}. Best is trial 7 with value: 0.9621308874898257.\u001b[0m\n",
      "\u001b[32m[I 2021-07-23 00:05:34,783]\u001b[0m Trial 29 finished with value: 0.955886006008701 and parameters: {'n_estimators': 1000, 'learning_rate': 0.5, 'max_depth': 14, 'min_child_weight': 5, 'gamma': 0.2, 'colsample_bytree': 0.4}. Best is trial 7 with value: 0.9621308874898257.\u001b[0m\n",
      "\u001b[32m[I 2021-07-23 00:06:13,850]\u001b[0m Trial 30 finished with value: 0.9523229087301979 and parameters: {'n_estimators': 1300, 'learning_rate': 0.6, 'max_depth': 16, 'min_child_weight': 1, 'gamma': 0.1, 'colsample_bytree': 0.8}. Best is trial 7 with value: 0.9621308874898257.\u001b[0m\n",
      "\u001b[32m[I 2021-07-23 00:06:20,927]\u001b[0m Trial 31 finished with value: 0.9612136028577537 and parameters: {'n_estimators': 800, 'learning_rate': 0.30000000000000004, 'max_depth': 3, 'min_child_weight': 1, 'gamma': 0.1, 'colsample_bytree': 0.8}. Best is trial 7 with value: 0.9621308874898257.\u001b[0m\n",
      "\u001b[32m[I 2021-07-23 00:06:36,711]\u001b[0m Trial 32 finished with value: 0.9525484789045863 and parameters: {'n_estimators': 1100, 'learning_rate': 0.4, 'max_depth': 6, 'min_child_weight': 3, 'gamma': 0.0, 'colsample_bytree': 0.8}. Best is trial 7 with value: 0.9621308874898257.\u001b[0m\n",
      "\u001b[32m[I 2021-07-23 00:06:45,648]\u001b[0m Trial 33 finished with value: 0.95872409789072 and parameters: {'n_estimators': 700, 'learning_rate': 0.30000000000000004, 'max_depth': 4, 'min_child_weight': 1, 'gamma': 0.1, 'colsample_bytree': 0.8}. Best is trial 7 with value: 0.9621308874898257.\u001b[0m\n",
      "\u001b[32m[I 2021-07-23 00:07:01,486]\u001b[0m Trial 34 finished with value: 0.9588322558172369 and parameters: {'n_estimators': 900, 'learning_rate': 0.2, 'max_depth': 7, 'min_child_weight': 1, 'gamma': 0.4, 'colsample_bytree': 0.8}. Best is trial 7 with value: 0.9621308874898257.\u001b[0m\n",
      "\u001b[32m[I 2021-07-23 00:07:13,436]\u001b[0m Trial 35 finished with value: 0.9611968445116128 and parameters: {'n_estimators': 800, 'learning_rate': 0.1, 'max_depth': 5, 'min_child_weight': 3, 'gamma': 0.0, 'colsample_bytree': 0.6000000000000001}. Best is trial 7 with value: 0.9621308874898257.\u001b[0m\n",
      "\u001b[32m[I 2021-07-23 00:07:22,812]\u001b[0m Trial 36 finished with value: 0.9616938712324411 and parameters: {'n_estimators': 1000, 'learning_rate': 0.4, 'max_depth': 3, 'min_child_weight': 1, 'gamma': 0.2, 'colsample_bytree': 0.8}. Best is trial 7 with value: 0.9621308874898257.\u001b[0m\n",
      "\u001b[32m[I 2021-07-23 00:07:33,114]\u001b[0m Trial 37 finished with value: 0.9574370854669431 and parameters: {'n_estimators': 1100, 'learning_rate': 0.6, 'max_depth': 4, 'min_child_weight': 9, 'gamma': 0.30000000000000004, 'colsample_bytree': 0.6000000000000001}. Best is trial 7 with value: 0.9621308874898257.\u001b[0m\n",
      "\u001b[32m[I 2021-07-23 00:07:49,298]\u001b[0m Trial 38 finished with value: 0.9520712689633454 and parameters: {'n_estimators': 1000, 'learning_rate': 0.9, 'max_depth': 6, 'min_child_weight': 7, 'gamma': 0.2, 'colsample_bytree': 0.8}. Best is trial 7 with value: 0.9621308874898257.\u001b[0m\n",
      "\u001b[32m[I 2021-07-23 00:08:03,129]\u001b[0m Trial 39 finished with value: 0.9515617758645325 and parameters: {'n_estimators': 900, 'learning_rate': 0.8, 'max_depth': 8, 'min_child_weight': 3, 'gamma': 0.4, 'colsample_bytree': 0.6000000000000001}. Best is trial 7 with value: 0.9621308874898257.\u001b[0m\n",
      "\u001b[32m[I 2021-07-23 00:08:11,084]\u001b[0m Trial 40 finished with value: 0.9609919709385842 and parameters: {'n_estimators': 1000, 'learning_rate': 0.4, 'max_depth': 5, 'min_child_weight': 1, 'gamma': 0.30000000000000004, 'colsample_bytree': 0.2}. Best is trial 7 with value: 0.9621308874898257.\u001b[0m\n",
      "\u001b[32m[I 2021-07-23 00:08:18,194]\u001b[0m Trial 41 finished with value: 0.9613141435944818 and parameters: {'n_estimators': 900, 'learning_rate': 0.30000000000000004, 'max_depth': 3, 'min_child_weight': 1, 'gamma': 0.1, 'colsample_bytree': 0.8}. Best is trial 7 with value: 0.9621308874898257.\u001b[0m\n",
      "\u001b[32m[I 2021-07-23 00:08:25,060]\u001b[0m Trial 42 finished with value: 0.9590616859786212 and parameters: {'n_estimators': 900, 'learning_rate': 0.5, 'max_depth': 3, 'min_child_weight': 13, 'gamma': 0.2, 'colsample_bytree': 0.8}. Best is trial 7 with value: 0.9621308874898257.\u001b[0m\n",
      "\u001b[32m[I 2021-07-23 00:08:36,125]\u001b[0m Trial 43 finished with value: 0.9578337705709261 and parameters: {'n_estimators': 1100, 'learning_rate': 0.30000000000000004, 'max_depth': 4, 'min_child_weight': 1, 'gamma': 0.1, 'colsample_bytree': 0.8}. Best is trial 7 with value: 0.9621308874898257.\u001b[0m\n",
      "\u001b[32m[I 2021-07-23 00:08:47,880]\u001b[0m Trial 44 finished with value: 0.9525249723695558 and parameters: {'n_estimators': 900, 'learning_rate': 0.4, 'max_depth': 5, 'min_child_weight': 1, 'gamma': 0.0, 'colsample_bytree': 0.8}. Best is trial 7 with value: 0.9621308874898257.\u001b[0m\n",
      "\u001b[32m[I 2021-07-23 00:08:54,084]\u001b[0m Trial 45 finished with value: 0.9579158813943334 and parameters: {'n_estimators': 800, 'learning_rate': 0.2, 'max_depth': 3, 'min_child_weight': 11, 'gamma': 0.1, 'colsample_bytree': 0.8}. Best is trial 7 with value: 0.9621308874898257.\u001b[0m\n",
      "\u001b[32m[I 2021-07-23 00:09:13,912]\u001b[0m Trial 46 finished with value: 0.9533776937060131 and parameters: {'n_estimators': 600, 'learning_rate': 0.30000000000000004, 'max_depth': 20, 'min_child_weight': 3, 'gamma': 0.2, 'colsample_bytree': 0.8}. Best is trial 7 with value: 0.9621308874898257.\u001b[0m\n",
      "\u001b[32m[I 2021-07-23 00:09:46,924]\u001b[0m Trial 47 finished with value: 0.9542132587514516 and parameters: {'n_estimators': 1500, 'learning_rate': 0.5, 'max_depth': 12, 'min_child_weight': 1, 'gamma': 0.1, 'colsample_bytree': 0.6000000000000001}. Best is trial 7 with value: 0.9621308874898257.\u001b[0m\n",
      "\u001b[32m[I 2021-07-23 00:09:54,061]\u001b[0m Trial 48 finished with value: 0.958638214410516 and parameters: {'n_estimators': 700, 'learning_rate': 0.4, 'max_depth': 4, 'min_child_weight': 3, 'gamma': 0.2, 'colsample_bytree': 0.4}. Best is trial 7 with value: 0.9621308874898257.\u001b[0m\n",
      "\u001b[32m[I 2021-07-23 00:10:02,970]\u001b[0m Trial 49 finished with value: 0.9605465513537491 and parameters: {'n_estimators': 1000, 'learning_rate': 0.1, 'max_depth': 3, 'min_child_weight': 1, 'gamma': 0.1, 'colsample_bytree': 0.8}. Best is trial 7 with value: 0.9621308874898257.\u001b[0m\n",
      "\u001b[32m[I 2021-07-23 00:10:16,320]\u001b[0m Trial 50 finished with value: 0.9526763095803412 and parameters: {'n_estimators': 900, 'learning_rate': 0.30000000000000004, 'max_depth': 6, 'min_child_weight': 1, 'gamma': 0.0, 'colsample_bytree': 0.8}. Best is trial 7 with value: 0.9621308874898257.\u001b[0m\n",
      "\u001b[32m[I 2021-07-23 00:10:22,271]\u001b[0m Trial 51 finished with value: 0.9612136028577537 and parameters: {'n_estimators': 800, 'learning_rate': 0.30000000000000004, 'max_depth': 3, 'min_child_weight': 1, 'gamma': 0.1, 'colsample_bytree': 0.8}. Best is trial 7 with value: 0.9621308874898257.\u001b[0m\n",
      "\u001b[32m[I 2021-07-23 00:10:28,396]\u001b[0m Trial 52 finished with value: 0.9621940360821749 and parameters: {'n_estimators': 800, 'learning_rate': 0.2, 'max_depth': 3, 'min_child_weight': 1, 'gamma': 0.1, 'colsample_bytree': 0.8}. Best is trial 52 with value: 0.9621940360821749.\u001b[0m\n",
      "\u001b[32m[I 2021-07-23 00:10:37,641]\u001b[0m Trial 53 finished with value: 0.9565982964871688 and parameters: {'n_estimators': 800, 'learning_rate': 0.2, 'max_depth': 5, 'min_child_weight': 3, 'gamma': 0.1, 'colsample_bytree': 0.8}. Best is trial 52 with value: 0.9621940360821749.\u001b[0m\n",
      "\u001b[32m[I 2021-07-23 00:10:47,897]\u001b[0m Trial 54 finished with value: 0.9618704519474174 and parameters: {'n_estimators': 900, 'learning_rate': 0.1, 'max_depth': 4, 'min_child_weight': 1, 'gamma': 0.2, 'colsample_bytree': 0.8}. Best is trial 52 with value: 0.9621940360821749.\u001b[0m\n",
      "\u001b[32m[I 2021-07-23 00:11:07,038]\u001b[0m Trial 55 finished with value: 0.9579076956208027 and parameters: {'n_estimators': 1000, 'learning_rate': 0.1, 'max_depth': 7, 'min_child_weight': 1, 'gamma': 0.2, 'colsample_bytree': 0.8}. Best is trial 52 with value: 0.9621940360821749.\u001b[0m\n",
      "\u001b[32m[I 2021-07-23 00:11:16,241]\u001b[0m Trial 56 finished with value: 0.9593835657460091 and parameters: {'n_estimators': 900, 'learning_rate': 0.2, 'max_depth': 4, 'min_child_weight': 3, 'gamma': 0.30000000000000004, 'colsample_bytree': 0.8}. Best is trial 52 with value: 0.9621940360821749.\u001b[0m\n"
     ]
    },
    {
     "name": "stderr",
     "output_type": "stream",
     "text": [
      "\u001b[32m[I 2021-07-23 00:11:28,289]\u001b[0m Trial 57 finished with value: 0.9604917132508238 and parameters: {'n_estimators': 1100, 'learning_rate': 0.1, 'max_depth': 5, 'min_child_weight': 1, 'gamma': 0.30000000000000004, 'colsample_bytree': 0.8}. Best is trial 52 with value: 0.9621940360821749.\u001b[0m\n",
      "\u001b[32m[I 2021-07-23 00:11:34,271]\u001b[0m Trial 58 finished with value: 0.9600353342868684 and parameters: {'n_estimators': 700, 'learning_rate': 0.2, 'max_depth': 4, 'min_child_weight': 5, 'gamma': 0.2, 'colsample_bytree': 0.6000000000000001}. Best is trial 52 with value: 0.9621940360821749.\u001b[0m\n",
      "\u001b[32m[I 2021-07-23 00:11:54,086]\u001b[0m Trial 59 finished with value: 0.9545137260018907 and parameters: {'n_estimators': 1200, 'learning_rate': 0.1, 'max_depth': 8, 'min_child_weight': 3, 'gamma': 0.0, 'colsample_bytree': 0.8}. Best is trial 52 with value: 0.9621940360821749.\u001b[0m\n",
      "\u001b[32m[I 2021-07-23 00:12:00,695]\u001b[0m Trial 60 finished with value: 0.9609567632641656 and parameters: {'n_estimators': 900, 'learning_rate': 0.2, 'max_depth': 3, 'min_child_weight': 1, 'gamma': 0.2, 'colsample_bytree': 0.8}. Best is trial 52 with value: 0.9621940360821749.\u001b[0m\n",
      "\u001b[32m[I 2021-07-23 00:12:07,806]\u001b[0m Trial 61 finished with value: 0.9612136028577537 and parameters: {'n_estimators': 800, 'learning_rate': 0.30000000000000004, 'max_depth': 3, 'min_child_weight': 1, 'gamma': 0.1, 'colsample_bytree': 0.8}. Best is trial 52 with value: 0.9621940360821749.\u001b[0m\n",
      "\u001b[32m[I 2021-07-23 00:12:15,399]\u001b[0m Trial 62 finished with value: 0.957673612871773 and parameters: {'n_estimators': 800, 'learning_rate': 0.4, 'max_depth': 4, 'min_child_weight': 1, 'gamma': 0.1, 'colsample_bytree': 0.8}. Best is trial 52 with value: 0.9621940360821749.\u001b[0m\n",
      "\u001b[32m[I 2021-07-23 00:12:21,993]\u001b[0m Trial 63 finished with value: 0.9611264535580792 and parameters: {'n_estimators': 900, 'learning_rate': 0.2, 'max_depth': 3, 'min_child_weight': 1, 'gamma': 0.0, 'colsample_bytree': 0.8}. Best is trial 52 with value: 0.9621940360821749.\u001b[0m\n",
      "\u001b[32m[I 2021-07-23 00:12:30,510]\u001b[0m Trial 64 finished with value: 0.9615601322657948 and parameters: {'n_estimators': 1000, 'learning_rate': 0.30000000000000004, 'max_depth': 3, 'min_child_weight': 1, 'gamma': 0.1, 'colsample_bytree': 0.8}. Best is trial 52 with value: 0.9621940360821749.\u001b[0m\n",
      "\u001b[32m[I 2021-07-23 00:13:10,504]\u001b[0m Trial 65 finished with value: 0.9530122924099853 and parameters: {'n_estimators': 1000, 'learning_rate': 0.30000000000000004, 'max_depth': 18, 'min_child_weight': 1, 'gamma': 0.2, 'colsample_bytree': 0.8}. Best is trial 52 with value: 0.9621940360821749.\u001b[0m\n",
      "\u001b[32m[I 2021-07-23 00:13:20,990]\u001b[0m Trial 66 finished with value: 0.9546770985803171 and parameters: {'n_estimators': 1000, 'learning_rate': 0.4, 'max_depth': 5, 'min_child_weight': 3, 'gamma': 0.1, 'colsample_bytree': 0.8}. Best is trial 52 with value: 0.9621940360821749.\u001b[0m\n",
      "\u001b[32m[I 2021-07-23 00:13:30,115]\u001b[0m Trial 67 finished with value: 0.9622725358276919 and parameters: {'n_estimators': 1000, 'learning_rate': 0.1, 'max_depth': 4, 'min_child_weight': 1, 'gamma': 0.2, 'colsample_bytree': 0.6000000000000001}. Best is trial 67 with value: 0.9622725358276919.\u001b[0m\n",
      "\u001b[32m[I 2021-07-23 00:13:42,537]\u001b[0m Trial 68 finished with value: 0.9606742248350558 and parameters: {'n_estimators': 1100, 'learning_rate': 0.1, 'max_depth': 6, 'min_child_weight': 1, 'gamma': 0.2, 'colsample_bytree': 0.6000000000000001}. Best is trial 67 with value: 0.9622725358276919.\u001b[0m\n",
      "\u001b[32m[I 2021-07-23 00:13:50,375]\u001b[0m Trial 69 finished with value: 0.9616282183366192 and parameters: {'n_estimators': 1100, 'learning_rate': 0.1, 'max_depth': 4, 'min_child_weight': 3, 'gamma': 0.2, 'colsample_bytree': 0.4}. Best is trial 67 with value: 0.9622725358276919.\u001b[0m\n",
      "\u001b[32m[I 2021-07-23 00:14:00,552]\u001b[0m Trial 70 finished with value: 0.9620630756199646 and parameters: {'n_estimators': 1100, 'learning_rate': 0.1, 'max_depth': 5, 'min_child_weight': 3, 'gamma': 0.2, 'colsample_bytree': 0.4}. Best is trial 67 with value: 0.9622725358276919.\u001b[0m\n",
      "\u001b[32m[I 2021-07-23 00:14:11,569]\u001b[0m Trial 71 finished with value: 0.9608787845405239 and parameters: {'n_estimators': 1100, 'learning_rate': 0.1, 'max_depth': 5, 'min_child_weight': 5, 'gamma': 0.2, 'colsample_bytree': 0.4}. Best is trial 67 with value: 0.9622725358276919.\u001b[0m\n",
      "\u001b[32m[I 2021-07-23 00:14:19,998]\u001b[0m Trial 72 finished with value: 0.9619087557406791 and parameters: {'n_estimators': 1200, 'learning_rate': 0.1, 'max_depth': 4, 'min_child_weight': 3, 'gamma': 0.30000000000000004, 'colsample_bytree': 0.4}. Best is trial 67 with value: 0.9622725358276919.\u001b[0m\n",
      "\u001b[32m[I 2021-07-23 00:14:29,475]\u001b[0m Trial 73 finished with value: 0.9622668993574283 and parameters: {'n_estimators': 1300, 'learning_rate': 0.1, 'max_depth': 4, 'min_child_weight': 3, 'gamma': 0.30000000000000004, 'colsample_bytree': 0.4}. Best is trial 67 with value: 0.9622725358276919.\u001b[0m\n",
      "\u001b[32m[I 2021-07-23 00:14:41,914]\u001b[0m Trial 74 finished with value: 0.9593602794046664 and parameters: {'n_estimators': 1300, 'learning_rate': 0.1, 'max_depth': 6, 'min_child_weight': 5, 'gamma': 0.4, 'colsample_bytree': 0.4}. Best is trial 67 with value: 0.9622725358276919.\u001b[0m\n",
      "\u001b[32m[I 2021-07-23 00:14:52,335]\u001b[0m Trial 75 finished with value: 0.9607636705841406 and parameters: {'n_estimators': 1200, 'learning_rate': 0.1, 'max_depth': 5, 'min_child_weight': 3, 'gamma': 0.30000000000000004, 'colsample_bytree': 0.4}. Best is trial 67 with value: 0.9622725358276919.\u001b[0m\n",
      "\u001b[32m[I 2021-07-23 00:15:03,323]\u001b[0m Trial 76 finished with value: 0.9622668993574283 and parameters: {'n_estimators': 1300, 'learning_rate': 0.1, 'max_depth': 4, 'min_child_weight': 3, 'gamma': 0.30000000000000004, 'colsample_bytree': 0.4}. Best is trial 67 with value: 0.9622725358276919.\u001b[0m\n",
      "\u001b[32m[I 2021-07-23 00:15:19,319]\u001b[0m Trial 77 finished with value: 0.9607993150205297 and parameters: {'n_estimators': 1300, 'learning_rate': 0.1, 'max_depth': 4, 'min_child_weight': 5, 'gamma': 0.30000000000000004, 'colsample_bytree': 0.4}. Best is trial 67 with value: 0.9622725358276919.\u001b[0m\n",
      "\u001b[32m[I 2021-07-23 00:15:29,821]\u001b[0m Trial 78 finished with value: 0.9617861965508823 and parameters: {'n_estimators': 1400, 'learning_rate': 0.1, 'max_depth': 6, 'min_child_weight': 3, 'gamma': 0.4, 'colsample_bytree': 0.2}. Best is trial 67 with value: 0.9622725358276919.\u001b[0m\n",
      "\u001b[32m[I 2021-07-23 00:15:48,584]\u001b[0m Trial 79 finished with value: 0.961134589977063 and parameters: {'n_estimators': 1400, 'learning_rate': 0.1, 'max_depth': 7, 'min_child_weight': 3, 'gamma': 0.30000000000000004, 'colsample_bytree': 0.4}. Best is trial 67 with value: 0.9622725358276919.\u001b[0m\n",
      "\u001b[32m[I 2021-07-23 00:16:03,735]\u001b[0m Trial 80 finished with value: 0.9592181440301534 and parameters: {'n_estimators': 1300, 'learning_rate': 0.2, 'max_depth': 4, 'min_child_weight': 7, 'gamma': 0.30000000000000004, 'colsample_bytree': 0.4}. Best is trial 67 with value: 0.9622725358276919.\u001b[0m\n",
      "\u001b[32m[I 2021-07-23 00:16:23,596]\u001b[0m Trial 81 finished with value: 0.9619317860762816 and parameters: {'n_estimators': 1400, 'learning_rate': 0.1, 'max_depth': 5, 'min_child_weight': 3, 'gamma': 0.5, 'colsample_bytree': 0.2}. Best is trial 67 with value: 0.9622725358276919.\u001b[0m\n",
      "\u001b[32m[I 2021-07-23 00:16:40,100]\u001b[0m Trial 82 finished with value: 0.96218936065852 and parameters: {'n_estimators': 1500, 'learning_rate': 0.1, 'max_depth': 5, 'min_child_weight': 3, 'gamma': 0.6, 'colsample_bytree': 0.2}. Best is trial 67 with value: 0.9622725358276919.\u001b[0m\n",
      "\u001b[32m[I 2021-07-23 00:16:55,397]\u001b[0m Trial 83 finished with value: 0.96218936065852 and parameters: {'n_estimators': 1500, 'learning_rate': 0.1, 'max_depth': 5, 'min_child_weight': 3, 'gamma': 0.6, 'colsample_bytree': 0.2}. Best is trial 67 with value: 0.9622725358276919.\u001b[0m\n",
      "\u001b[32m[I 2021-07-23 00:17:13,980]\u001b[0m Trial 84 finished with value: 0.9605530595720562 and parameters: {'n_estimators': 1500, 'learning_rate': 0.1, 'max_depth': 5, 'min_child_weight': 5, 'gamma': 0.6, 'colsample_bytree': 0.2}. Best is trial 67 with value: 0.9622725358276919.\u001b[0m\n",
      "\u001b[32m[I 2021-07-23 00:17:31,857]\u001b[0m Trial 85 finished with value: 0.9619692723033162 and parameters: {'n_estimators': 1500, 'learning_rate': 0.2, 'max_depth': 7, 'min_child_weight': 3, 'gamma': 0.5, 'colsample_bytree': 0.2}. Best is trial 67 with value: 0.9622725358276919.\u001b[0m\n"
     ]
    },
    {
     "name": "stderr",
     "output_type": "stream",
     "text": [
      "\u001b[32m[I 2021-07-23 00:17:46,445]\u001b[0m Trial 86 finished with value: 0.9607900108277369 and parameters: {'n_estimators': 1500, 'learning_rate': 0.2, 'max_depth': 11, 'min_child_weight': 3, 'gamma': 0.5, 'colsample_bytree': 0.2}. Best is trial 67 with value: 0.9622725358276919.\u001b[0m\n",
      "\u001b[32m[I 2021-07-23 00:17:59,231]\u001b[0m Trial 87 finished with value: 0.961064023077828 and parameters: {'n_estimators': 1500, 'learning_rate': 0.2, 'max_depth': 7, 'min_child_weight': 3, 'gamma': 0.6, 'colsample_bytree': 0.2}. Best is trial 67 with value: 0.9622725358276919.\u001b[0m\n",
      "\u001b[32m[I 2021-07-23 00:18:15,678]\u001b[0m Trial 88 finished with value: 0.9610830950968405 and parameters: {'n_estimators': 1400, 'learning_rate': 0.2, 'max_depth': 6, 'min_child_weight': 5, 'gamma': 0.5, 'colsample_bytree': 0.2}. Best is trial 67 with value: 0.9622725358276919.\u001b[0m\n",
      "\u001b[32m[I 2021-07-23 00:18:36,266]\u001b[0m Trial 89 finished with value: 0.9617084885499794 and parameters: {'n_estimators': 1500, 'learning_rate': 0.1, 'max_depth': 9, 'min_child_weight': 3, 'gamma': 0.6, 'colsample_bytree': 0.2}. Best is trial 67 with value: 0.9622725358276919.\u001b[0m\n",
      "\u001b[32m[I 2021-07-23 00:18:50,375]\u001b[0m Trial 90 finished with value: 0.9611374214383295 and parameters: {'n_estimators': 1500, 'learning_rate': 0.1, 'max_depth': 6, 'min_child_weight': 3, 'gamma': 0.5, 'colsample_bytree': 0.2}. Best is trial 67 with value: 0.9622725358276919.\u001b[0m\n",
      "\u001b[32m[I 2021-07-23 00:19:00,070]\u001b[0m Trial 91 finished with value: 0.9618961768454368 and parameters: {'n_estimators': 1400, 'learning_rate': 0.1, 'max_depth': 5, 'min_child_weight': 3, 'gamma': 0.6, 'colsample_bytree': 0.2}. Best is trial 67 with value: 0.9622725358276919.\u001b[0m\n",
      "\u001b[32m[I 2021-07-23 00:19:11,132]\u001b[0m Trial 92 finished with value: 0.9618961768454368 and parameters: {'n_estimators': 1400, 'learning_rate': 0.1, 'max_depth': 5, 'min_child_weight': 3, 'gamma': 0.6, 'colsample_bytree': 0.2}. Best is trial 67 with value: 0.9622725358276919.\u001b[0m\n",
      "\u001b[32m[I 2021-07-23 00:19:25,726]\u001b[0m Trial 93 finished with value: 0.9623419169952938 and parameters: {'n_estimators': 1400, 'learning_rate': 0.1, 'max_depth': 8, 'min_child_weight': 3, 'gamma': 0.5, 'colsample_bytree': 0.2}. Best is trial 93 with value: 0.9623419169952938.\u001b[0m\n",
      "\u001b[32m[I 2021-07-23 00:19:40,784]\u001b[0m Trial 94 finished with value: 0.9616860418688028 and parameters: {'n_estimators': 1300, 'learning_rate': 0.2, 'max_depth': 10, 'min_child_weight': 5, 'gamma': 0.5, 'colsample_bytree': 0.2}. Best is trial 93 with value: 0.9623419169952938.\u001b[0m\n",
      "\u001b[32m[I 2021-07-23 00:20:08,365]\u001b[0m Trial 95 finished with value: 0.9592719954580907 and parameters: {'n_estimators': 1500, 'learning_rate': 0.2, 'max_depth': 8, 'min_child_weight': 3, 'gamma': 0.4, 'colsample_bytree': 0.4}. Best is trial 93 with value: 0.9623419169952938.\u001b[0m\n",
      "\u001b[32m[I 2021-07-23 00:20:23,928]\u001b[0m Trial 96 finished with value: 0.9612190998796826 and parameters: {'n_estimators': 1300, 'learning_rate': 0.1, 'max_depth': 7, 'min_child_weight': 3, 'gamma': 0.6, 'colsample_bytree': 0.2}. Best is trial 93 with value: 0.9623419169952938.\u001b[0m\n",
      "\u001b[32m[I 2021-07-23 00:20:56,226]\u001b[0m Trial 97 finished with value: 0.9606030923530263 and parameters: {'n_estimators': 1400, 'learning_rate': 0.1, 'max_depth': 12, 'min_child_weight': 3, 'gamma': 0.6, 'colsample_bytree': 0.4}. Best is trial 93 with value: 0.9623419169952938.\u001b[0m\n",
      "\u001b[32m[I 2021-07-23 00:21:26,004]\u001b[0m Trial 98 finished with value: 0.9593640364057053 and parameters: {'n_estimators': 1500, 'learning_rate': 0.1, 'max_depth': 8, 'min_child_weight': 5, 'gamma': 0.4, 'colsample_bytree': 0.6000000000000001}. Best is trial 93 with value: 0.9623419169952938.\u001b[0m\n",
      "\u001b[32m[I 2021-07-23 00:21:44,649]\u001b[0m Trial 99 finished with value: 0.9616499213688142 and parameters: {'n_estimators': 1400, 'learning_rate': 0.2, 'max_depth': 10, 'min_child_weight': 3, 'gamma': 0.5, 'colsample_bytree': 0.2}. Best is trial 93 with value: 0.9623419169952938.\u001b[0m\n",
      "\u001b[32m[I 2021-07-23 00:22:05,633]\u001b[0m Trial 100 finished with value: 0.9607457347742964 and parameters: {'n_estimators': 1300, 'learning_rate': 0.2, 'max_depth': 6, 'min_child_weight': 3, 'gamma': 0.5, 'colsample_bytree': 0.4}. Best is trial 93 with value: 0.9623419169952938.\u001b[0m\n",
      "\u001b[32m[I 2021-07-23 00:22:19,918]\u001b[0m Trial 101 finished with value: 0.9619317860762816 and parameters: {'n_estimators': 1400, 'learning_rate': 0.1, 'max_depth': 5, 'min_child_weight': 3, 'gamma': 0.5, 'colsample_bytree': 0.2}. Best is trial 93 with value: 0.9623419169952938.\u001b[0m\n",
      "\u001b[32m[I 2021-07-23 00:22:32,133]\u001b[0m Trial 102 finished with value: 0.9619317860762816 and parameters: {'n_estimators': 1400, 'learning_rate': 0.1, 'max_depth': 5, 'min_child_weight': 3, 'gamma': 0.5, 'colsample_bytree': 0.2}. Best is trial 93 with value: 0.9623419169952938.\u001b[0m\n",
      "\u001b[32m[I 2021-07-23 00:22:41,632]\u001b[0m Trial 103 finished with value: 0.9605451451105645 and parameters: {'n_estimators': 1500, 'learning_rate': 0.1, 'max_depth': 4, 'min_child_weight': 3, 'gamma': 0.5, 'colsample_bytree': 0.2}. Best is trial 93 with value: 0.9623419169952938.\u001b[0m\n",
      "\u001b[32m[I 2021-07-23 00:22:48,946]\u001b[0m Trial 104 finished with value: 0.9606512658817697 and parameters: {'n_estimators': 1200, 'learning_rate': 0.1, 'max_depth': 4, 'min_child_weight': 3, 'gamma': 0.4, 'colsample_bytree': 0.2}. Best is trial 93 with value: 0.9623419169952938.\u001b[0m\n",
      "\u001b[32m[I 2021-07-23 00:23:12,759]\u001b[0m Trial 105 finished with value: 0.9599316889549847 and parameters: {'n_estimators': 1400, 'learning_rate': 0.1, 'max_depth': 5, 'min_child_weight': 3, 'gamma': 0.6, 'colsample_bytree': 0.6000000000000001}. Best is trial 93 with value: 0.9623419169952938.\u001b[0m\n",
      "\u001b[32m[I 2021-07-23 00:23:33,804]\u001b[0m Trial 106 finished with value: 0.9576917370685035 and parameters: {'n_estimators': 1500, 'learning_rate': 0.7000000000000001, 'max_depth': 6, 'min_child_weight': 5, 'gamma': 0.6, 'colsample_bytree': 0.2}. Best is trial 93 with value: 0.9623419169952938.\u001b[0m\n",
      "\u001b[32m[I 2021-07-23 00:23:44,954]\u001b[0m Trial 107 finished with value: 0.9573017666893276 and parameters: {'n_estimators': 1300, 'learning_rate': 0.1, 'max_depth': 4, 'min_child_weight': 9, 'gamma': 0.5, 'colsample_bytree': 0.2}. Best is trial 93 with value: 0.9623419169952938.\u001b[0m\n",
      "\u001b[32m[I 2021-07-23 00:23:59,599]\u001b[0m Trial 108 finished with value: 0.9612303526387773 and parameters: {'n_estimators': 1200, 'learning_rate': 0.2, 'max_depth': 5, 'min_child_weight': 3, 'gamma': 0.30000000000000004, 'colsample_bytree': 0.2}. Best is trial 93 with value: 0.9623419169952938.\u001b[0m\n",
      "\u001b[32m[I 2021-07-23 00:24:30,068]\u001b[0m Trial 109 finished with value: 0.959843841469202 and parameters: {'n_estimators': 1500, 'learning_rate': 0.1, 'max_depth': 7, 'min_child_weight': 3, 'gamma': 0.4, 'colsample_bytree': 0.6000000000000001}. Best is trial 93 with value: 0.9623419169952938.\u001b[0m\n",
      "\u001b[32m[I 2021-07-23 00:24:34,915]\u001b[0m Trial 110 finished with value: 0.9544992886490334 and parameters: {'n_estimators': 500, 'learning_rate': 0.1, 'max_depth': 3, 'min_child_weight': 1, 'gamma': 0.4, 'colsample_bytree': 0.4}. Best is trial 93 with value: 0.9623419169952938.\u001b[0m\n",
      "\u001b[32m[I 2021-07-23 00:24:51,117]\u001b[0m Trial 111 finished with value: 0.9619317860762816 and parameters: {'n_estimators': 1400, 'learning_rate': 0.1, 'max_depth': 5, 'min_child_weight': 3, 'gamma': 0.5, 'colsample_bytree': 0.2}. Best is trial 93 with value: 0.9623419169952938.\u001b[0m\n",
      "\u001b[32m[I 2021-07-23 00:25:07,288]\u001b[0m Trial 112 finished with value: 0.9605336276916788 and parameters: {'n_estimators': 1400, 'learning_rate': 0.1, 'max_depth': 4, 'min_child_weight': 3, 'gamma': 0.5, 'colsample_bytree': 0.2}. Best is trial 93 with value: 0.9623419169952938.\u001b[0m\n",
      "\u001b[32m[I 2021-07-23 00:25:23,444]\u001b[0m Trial 113 finished with value: 0.9608283260303147 and parameters: {'n_estimators': 1400, 'learning_rate': 0.1, 'max_depth': 6, 'min_child_weight': 3, 'gamma': 0.5, 'colsample_bytree': 0.2}. Best is trial 93 with value: 0.9623419169952938.\u001b[0m\n",
      "\u001b[32m[I 2021-07-23 00:25:39,571]\u001b[0m Trial 114 finished with value: 0.9605972030079376 and parameters: {'n_estimators': 1300, 'learning_rate': 0.1, 'max_depth': 4, 'min_child_weight': 3, 'gamma': 0.5, 'colsample_bytree': 0.2}. Best is trial 93 with value: 0.9623419169952938.\u001b[0m\n",
      "\u001b[32m[I 2021-07-23 00:25:58,862]\u001b[0m Trial 115 finished with value: 0.9604913116608836 and parameters: {'n_estimators': 1500, 'learning_rate': 0.2, 'max_depth': 5, 'min_child_weight': 5, 'gamma': 0.6, 'colsample_bytree': 0.2}. Best is trial 93 with value: 0.9623419169952938.\u001b[0m\n"
     ]
    },
    {
     "name": "stderr",
     "output_type": "stream",
     "text": [
      "\u001b[32m[I 2021-07-23 00:26:16,698]\u001b[0m Trial 116 finished with value: 0.9605336276916788 and parameters: {'n_estimators': 1400, 'learning_rate': 0.1, 'max_depth': 4, 'min_child_weight': 3, 'gamma': 0.5, 'colsample_bytree': 0.2}. Best is trial 93 with value: 0.9623419169952938.\u001b[0m\n",
      "\u001b[32m[I 2021-07-23 00:26:38,556]\u001b[0m Trial 117 finished with value: 0.9630614090465907 and parameters: {'n_estimators': 1000, 'learning_rate': 0.1, 'max_depth': 5, 'min_child_weight': 1, 'gamma': 0.30000000000000004, 'colsample_bytree': 0.4}. Best is trial 117 with value: 0.9630614090465907.\u001b[0m\n",
      "\u001b[32m[I 2021-07-23 00:26:50,107]\u001b[0m Trial 118 finished with value: 0.9626804695656034 and parameters: {'n_estimators': 1000, 'learning_rate': 0.2, 'max_depth': 3, 'min_child_weight': 1, 'gamma': 0.30000000000000004, 'colsample_bytree': 0.4}. Best is trial 117 with value: 0.9630614090465907.\u001b[0m\n",
      "\u001b[32m[I 2021-07-23 00:26:57,894]\u001b[0m Trial 119 finished with value: 0.9626804695656034 and parameters: {'n_estimators': 1000, 'learning_rate': 0.2, 'max_depth': 3, 'min_child_weight': 1, 'gamma': 0.30000000000000004, 'colsample_bytree': 0.4}. Best is trial 117 with value: 0.9630614090465907.\u001b[0m\n",
      "\u001b[32m[I 2021-07-23 00:27:05,866]\u001b[0m Trial 120 finished with value: 0.9626804695656034 and parameters: {'n_estimators': 1000, 'learning_rate': 0.2, 'max_depth': 3, 'min_child_weight': 1, 'gamma': 0.30000000000000004, 'colsample_bytree': 0.4}. Best is trial 117 with value: 0.9630614090465907.\u001b[0m\n",
      "\u001b[32m[I 2021-07-23 00:27:13,513]\u001b[0m Trial 121 finished with value: 0.9626804695656034 and parameters: {'n_estimators': 1000, 'learning_rate': 0.2, 'max_depth': 3, 'min_child_weight': 1, 'gamma': 0.30000000000000004, 'colsample_bytree': 0.4}. Best is trial 117 with value: 0.9630614090465907.\u001b[0m\n",
      "\u001b[32m[I 2021-07-23 00:27:24,556]\u001b[0m Trial 122 finished with value: 0.9626804695656034 and parameters: {'n_estimators': 1000, 'learning_rate': 0.2, 'max_depth': 3, 'min_child_weight': 1, 'gamma': 0.30000000000000004, 'colsample_bytree': 0.4}. Best is trial 117 with value: 0.9630614090465907.\u001b[0m\n",
      "\u001b[32m[I 2021-07-23 00:27:44,649]\u001b[0m Trial 123 finished with value: 0.9626804695656034 and parameters: {'n_estimators': 1000, 'learning_rate': 0.2, 'max_depth': 3, 'min_child_weight': 1, 'gamma': 0.30000000000000004, 'colsample_bytree': 0.4}. Best is trial 117 with value: 0.9630614090465907.\u001b[0m\n",
      "\u001b[32m[I 2021-07-23 00:27:55,449]\u001b[0m Trial 124 finished with value: 0.9626804695656034 and parameters: {'n_estimators': 1000, 'learning_rate': 0.2, 'max_depth': 3, 'min_child_weight': 1, 'gamma': 0.30000000000000004, 'colsample_bytree': 0.4}. Best is trial 117 with value: 0.9630614090465907.\u001b[0m\n",
      "\u001b[32m[I 2021-07-23 00:28:07,367]\u001b[0m Trial 125 finished with value: 0.9626804695656034 and parameters: {'n_estimators': 1000, 'learning_rate': 0.2, 'max_depth': 3, 'min_child_weight': 1, 'gamma': 0.30000000000000004, 'colsample_bytree': 0.4}. Best is trial 117 with value: 0.9630614090465907.\u001b[0m\n",
      "\u001b[32m[I 2021-07-23 00:28:17,412]\u001b[0m Trial 126 finished with value: 0.9626804695656034 and parameters: {'n_estimators': 1000, 'learning_rate': 0.2, 'max_depth': 3, 'min_child_weight': 1, 'gamma': 0.30000000000000004, 'colsample_bytree': 0.4}. Best is trial 117 with value: 0.9630614090465907.\u001b[0m\n",
      "\u001b[32m[I 2021-07-23 00:28:27,148]\u001b[0m Trial 127 finished with value: 0.9626804695656034 and parameters: {'n_estimators': 1000, 'learning_rate': 0.2, 'max_depth': 3, 'min_child_weight': 1, 'gamma': 0.30000000000000004, 'colsample_bytree': 0.4}. Best is trial 117 with value: 0.9630614090465907.\u001b[0m\n",
      "\u001b[32m[I 2021-07-23 00:28:36,626]\u001b[0m Trial 128 finished with value: 0.9626804695656034 and parameters: {'n_estimators': 1000, 'learning_rate': 0.2, 'max_depth': 3, 'min_child_weight': 1, 'gamma': 0.30000000000000004, 'colsample_bytree': 0.4}. Best is trial 117 with value: 0.9630614090465907.\u001b[0m\n",
      "\u001b[32m[I 2021-07-23 00:28:46,691]\u001b[0m Trial 129 finished with value: 0.9626804695656034 and parameters: {'n_estimators': 1000, 'learning_rate': 0.2, 'max_depth': 3, 'min_child_weight': 1, 'gamma': 0.30000000000000004, 'colsample_bytree': 0.4}. Best is trial 117 with value: 0.9630614090465907.\u001b[0m\n",
      "\u001b[32m[I 2021-07-23 00:28:54,499]\u001b[0m Trial 130 finished with value: 0.9626804695656034 and parameters: {'n_estimators': 1000, 'learning_rate': 0.2, 'max_depth': 3, 'min_child_weight': 1, 'gamma': 0.30000000000000004, 'colsample_bytree': 0.4}. Best is trial 117 with value: 0.9630614090465907.\u001b[0m\n",
      "\u001b[32m[I 2021-07-23 00:29:10,757]\u001b[0m Trial 131 finished with value: 0.9626804695656034 and parameters: {'n_estimators': 1000, 'learning_rate': 0.2, 'max_depth': 3, 'min_child_weight': 1, 'gamma': 0.30000000000000004, 'colsample_bytree': 0.4}. Best is trial 117 with value: 0.9630614090465907.\u001b[0m\n",
      "\u001b[32m[I 2021-07-23 00:29:20,040]\u001b[0m Trial 132 finished with value: 0.9626804695656034 and parameters: {'n_estimators': 1000, 'learning_rate': 0.2, 'max_depth': 3, 'min_child_weight': 1, 'gamma': 0.30000000000000004, 'colsample_bytree': 0.4}. Best is trial 117 with value: 0.9630614090465907.\u001b[0m\n",
      "\u001b[32m[I 2021-07-23 00:29:30,070]\u001b[0m Trial 133 finished with value: 0.9626804695656034 and parameters: {'n_estimators': 1000, 'learning_rate': 0.2, 'max_depth': 3, 'min_child_weight': 1, 'gamma': 0.30000000000000004, 'colsample_bytree': 0.4}. Best is trial 117 with value: 0.9630614090465907.\u001b[0m\n",
      "\u001b[32m[I 2021-07-23 00:29:38,677]\u001b[0m Trial 134 finished with value: 0.9626804695656034 and parameters: {'n_estimators': 1000, 'learning_rate': 0.2, 'max_depth': 3, 'min_child_weight': 1, 'gamma': 0.30000000000000004, 'colsample_bytree': 0.4}. Best is trial 117 with value: 0.9630614090465907.\u001b[0m\n",
      "\u001b[32m[I 2021-07-23 00:30:10,429]\u001b[0m Trial 135 finished with value: 0.9626804695656034 and parameters: {'n_estimators': 1000, 'learning_rate': 0.2, 'max_depth': 3, 'min_child_weight': 1, 'gamma': 0.30000000000000004, 'colsample_bytree': 0.4}. Best is trial 117 with value: 0.9630614090465907.\u001b[0m\n",
      "\u001b[32m[I 2021-07-23 00:30:21,620]\u001b[0m Trial 136 finished with value: 0.9626752451930128 and parameters: {'n_estimators': 1100, 'learning_rate': 0.2, 'max_depth': 3, 'min_child_weight': 1, 'gamma': 0.30000000000000004, 'colsample_bytree': 0.4}. Best is trial 117 with value: 0.9630614090465907.\u001b[0m\n",
      "\u001b[32m[I 2021-07-23 00:30:31,914]\u001b[0m Trial 137 finished with value: 0.9621088449668088 and parameters: {'n_estimators': 1000, 'learning_rate': 0.30000000000000004, 'max_depth': 3, 'min_child_weight': 1, 'gamma': 0.30000000000000004, 'colsample_bytree': 0.4}. Best is trial 117 with value: 0.9630614090465907.\u001b[0m\n",
      "\u001b[32m[I 2021-07-23 00:30:42,507]\u001b[0m Trial 138 finished with value: 0.9626804695656034 and parameters: {'n_estimators': 1000, 'learning_rate': 0.2, 'max_depth': 3, 'min_child_weight': 1, 'gamma': 0.30000000000000004, 'colsample_bytree': 0.4}. Best is trial 117 with value: 0.9630614090465907.\u001b[0m\n",
      "\u001b[32m[I 2021-07-23 00:30:52,158]\u001b[0m Trial 139 finished with value: 0.9626804695656034 and parameters: {'n_estimators': 1000, 'learning_rate': 0.2, 'max_depth': 3, 'min_child_weight': 1, 'gamma': 0.30000000000000004, 'colsample_bytree': 0.4}. Best is trial 117 with value: 0.9630614090465907.\u001b[0m\n",
      "\u001b[32m[I 2021-07-23 00:31:01,436]\u001b[0m Trial 140 finished with value: 0.9620407937772533 and parameters: {'n_estimators': 900, 'learning_rate': 0.30000000000000004, 'max_depth': 3, 'min_child_weight': 1, 'gamma': 0.30000000000000004, 'colsample_bytree': 0.4}. Best is trial 117 with value: 0.9630614090465907.\u001b[0m\n",
      "\u001b[32m[I 2021-07-23 00:31:12,979]\u001b[0m Trial 141 finished with value: 0.9626804695656034 and parameters: {'n_estimators': 1000, 'learning_rate': 0.2, 'max_depth': 3, 'min_child_weight': 1, 'gamma': 0.30000000000000004, 'colsample_bytree': 0.4}. Best is trial 117 with value: 0.9630614090465907.\u001b[0m\n",
      "\u001b[32m[I 2021-07-23 00:31:31,914]\u001b[0m Trial 142 finished with value: 0.9626804695656034 and parameters: {'n_estimators': 1000, 'learning_rate': 0.2, 'max_depth': 3, 'min_child_weight': 1, 'gamma': 0.30000000000000004, 'colsample_bytree': 0.4}. Best is trial 117 with value: 0.9630614090465907.\u001b[0m\n",
      "\u001b[32m[I 2021-07-23 00:31:42,015]\u001b[0m Trial 143 finished with value: 0.9626804695656034 and parameters: {'n_estimators': 1000, 'learning_rate': 0.2, 'max_depth': 3, 'min_child_weight': 1, 'gamma': 0.30000000000000004, 'colsample_bytree': 0.4}. Best is trial 117 with value: 0.9630614090465907.\u001b[0m\n"
     ]
    },
    {
     "name": "stderr",
     "output_type": "stream",
     "text": [
      "\u001b[32m[I 2021-07-23 00:31:52,476]\u001b[0m Trial 144 finished with value: 0.9626804695656034 and parameters: {'n_estimators': 1000, 'learning_rate': 0.2, 'max_depth': 3, 'min_child_weight': 1, 'gamma': 0.30000000000000004, 'colsample_bytree': 0.4}. Best is trial 117 with value: 0.9630614090465907.\u001b[0m\n",
      "\u001b[32m[I 2021-07-23 00:32:05,245]\u001b[0m Trial 145 finished with value: 0.9626752451930128 and parameters: {'n_estimators': 1100, 'learning_rate': 0.2, 'max_depth': 3, 'min_child_weight': 1, 'gamma': 0.30000000000000004, 'colsample_bytree': 0.4}. Best is trial 117 with value: 0.9630614090465907.\u001b[0m\n",
      "\u001b[32m[I 2021-07-23 00:32:18,617]\u001b[0m Trial 146 finished with value: 0.9621088449668088 and parameters: {'n_estimators': 1000, 'learning_rate': 0.30000000000000004, 'max_depth': 3, 'min_child_weight': 1, 'gamma': 0.30000000000000004, 'colsample_bytree': 0.4}. Best is trial 117 with value: 0.9630614090465907.\u001b[0m\n",
      "\u001b[32m[I 2021-07-23 00:32:46,987]\u001b[0m Trial 147 finished with value: 0.9629181830126115 and parameters: {'n_estimators': 900, 'learning_rate': 0.2, 'max_depth': 4, 'min_child_weight': 1, 'gamma': 0.30000000000000004, 'colsample_bytree': 0.4}. Best is trial 117 with value: 0.9630614090465907.\u001b[0m\n",
      "\u001b[32m[I 2021-07-23 00:32:57,804]\u001b[0m Trial 148 finished with value: 0.9629181830126115 and parameters: {'n_estimators': 900, 'learning_rate': 0.2, 'max_depth': 4, 'min_child_weight': 1, 'gamma': 0.30000000000000004, 'colsample_bytree': 0.4}. Best is trial 117 with value: 0.9630614090465907.\u001b[0m\n",
      "\u001b[32m[I 2021-07-23 00:33:13,410]\u001b[0m Trial 149 finished with value: 0.9629181830126115 and parameters: {'n_estimators': 900, 'learning_rate': 0.2, 'max_depth': 4, 'min_child_weight': 1, 'gamma': 0.30000000000000004, 'colsample_bytree': 0.4}. Best is trial 117 with value: 0.9630614090465907.\u001b[0m\n"
     ]
    }
   ],
   "source": [
    "study = optuna.create_study(direction='maximize')\n",
    "study.optimize(objective,n_trials = 150)"
   ]
  },
  {
   "cell_type": "code",
   "execution_count": 17,
   "metadata": {},
   "outputs": [
    {
     "name": "stdout",
     "output_type": "stream",
     "text": [
      "F1-Score: 0.9630614090465907\n",
      "Best hyperparameters: {'n_estimators': 1000, 'learning_rate': 0.1, 'max_depth': 5, 'min_child_weight': 1, 'gamma': 0.30000000000000004, 'colsample_bytree': 0.4}\n"
     ]
    }
   ],
   "source": [
    "trial = study.best_trial\n",
    "print('F1-Score: {}'.format(trial.value))\n",
    "print(\"Best hyperparameters: {}\".format(trial.params))"
   ]
  },
  {
   "cell_type": "markdown",
   "metadata": {},
   "source": [
    "## Train Accuracy is 96.306 %"
   ]
  },
  {
   "cell_type": "code",
   "execution_count": 18,
   "metadata": {},
   "outputs": [
    {
     "name": "stdout",
     "output_type": "stream",
     "text": [
      "[00:36:45] WARNING: C:/Users/Administrator/workspace/xgboost-win64_release_1.4.0/src/learner.cc:1095: Starting in XGBoost 1.3.0, the default evaluation metric used with the objective 'binary:logistic' was changed from 'error' to 'logloss'. Explicitly set eval_metric if you'd like to restore the old behavior.\n"
     ]
    },
    {
     "data": {
      "text/plain": [
       "XGBClassifier(base_score=0.5, booster='gbtree', colsample_bylevel=1,\n",
       "              colsample_bynode=1, colsample_bytree=0.4, gamma=0.3, gpu_id=-1,\n",
       "              importance_type='gain', interaction_constraints='',\n",
       "              learning_rate=0.1, max_delta_step=0, max_depth=5,\n",
       "              min_child_weight=1, missing=nan, monotone_constraints='()',\n",
       "              n_estimators=1000, n_jobs=8, num_parallel_tree=1, random_state=0,\n",
       "              reg_alpha=0, reg_lambda=1, scale_pos_weight=1, subsample=1,\n",
       "              tree_method='exact', validate_parameters=1, verbosity=None)"
      ]
     },
     "execution_count": 18,
     "metadata": {},
     "output_type": "execute_result"
    }
   ],
   "source": [
    "clf = XGBClassifier(n_estimators=1000,learning_rate=0.1,\n",
    "                    max_depth = 5, min_child_weight = 1,\n",
    "                    gamma = 0.3, colsample_bytree = 0.4)\n",
    "clf.fit(X_train,y_train)"
   ]
  },
  {
   "cell_type": "code",
   "execution_count": 19,
   "metadata": {},
   "outputs": [],
   "source": [
    "y_pred = clf.predict(X_val)"
   ]
  },
  {
   "cell_type": "code",
   "execution_count": 29,
   "metadata": {},
   "outputs": [],
   "source": [
    "from sklearn.metrics import accuracy_score,confusion_matrix,classification_report\n",
    "def evaluation(y_true,y_pred):\n",
    "    print('Confusion Matrix : ','\\n',confusion_matrix(y_true=y_true,y_pred=y_pred),'\\n')\n",
    "    print('Accuracy Score : ',accuracy_score(y_true=y_true,y_pred=y_pred),'\\n')\n",
    "    print('classification Report : ','\\n',classification_report(y_true=y_true,y_pred=y_pred),'\\n')"
   ]
  },
  {
   "cell_type": "code",
   "execution_count": 30,
   "metadata": {},
   "outputs": [
    {
     "name": "stdout",
     "output_type": "stream",
     "text": [
      "Confusion Matrix :  \n",
      " [[12525    46]\n",
      " [  724   407]] \n",
      "\n",
      "Accuracy Score :  0.9438038242592323 \n",
      "\n",
      "classification Report :  \n",
      "               precision    recall  f1-score   support\n",
      "\n",
      "           0       0.95      1.00      0.97     12571\n",
      "           1       0.90      0.36      0.51      1131\n",
      "\n",
      "    accuracy                           0.94     13702\n",
      "   macro avg       0.92      0.68      0.74     13702\n",
      "weighted avg       0.94      0.94      0.93     13702\n",
      " \n",
      "\n"
     ]
    }
   ],
   "source": [
    "evaluation(y_val,y_pred)"
   ]
  },
  {
   "cell_type": "markdown",
   "metadata": {},
   "source": [
    "## Test Accuracy is 94.380 %"
   ]
  },
  {
   "cell_type": "code",
   "execution_count": 31,
   "metadata": {},
   "outputs": [],
   "source": [
    "import pickle\n",
    "pickle.dump(clf,open('model.pkl','wb'))"
   ]
  }
 ],
 "metadata": {
  "colab": {
   "authorship_tag": "ABX9TyOM4qdOHXKBI8GI4K9Li4m5",
   "collapsed_sections": [],
   "mount_file_id": "16DqwdZoWr5tWS2uhQ_9kgPz4fMh1dFn3",
   "name": "Employee_Promotion.ipynb",
   "provenance": []
  },
  "kernelspec": {
   "display_name": "Python 3",
   "language": "python",
   "name": "python3"
  },
  "language_info": {
   "codemirror_mode": {
    "name": "ipython",
    "version": 3
   },
   "file_extension": ".py",
   "mimetype": "text/x-python",
   "name": "python",
   "nbconvert_exporter": "python",
   "pygments_lexer": "ipython3",
   "version": "3.8.5"
  }
 },
 "nbformat": 4,
 "nbformat_minor": 1
}
